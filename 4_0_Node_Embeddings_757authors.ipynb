{
  "cells": [
    {
      "cell_type": "markdown",
      "metadata": {
        "id": "view-in-github",
        "colab_type": "text"
      },
      "source": [
        "<a href=\"https://colab.research.google.com/github/lavou/ResearchMate/blob/main/4_0_Node_Embeddings_757authors.ipynb\" target=\"_parent\"><img src=\"https://colab.research.google.com/assets/colab-badge.svg\" alt=\"Open In Colab\"/></a>"
      ]
    },
    {
      "cell_type": "code",
      "source": [
        "from google.colab import drive\n",
        "drive.mount('/content/drive')"
      ],
      "metadata": {
        "id": "ucepN7u01SmG"
      },
      "execution_count": null,
      "outputs": []
    },
    {
      "cell_type": "code",
      "execution_count": null,
      "metadata": {
        "colab": {
          "base_uri": "https://localhost:8080/"
        },
        "id": "cd3NnVc80ha4",
        "outputId": "79f8cab0-76fd-44de-9082-3869ef221f35"
      },
      "outputs": [
        {
          "output_type": "stream",
          "name": "stdout",
          "text": [
            "<class 'pandas.core.frame.DataFrame'>\n",
            "RangeIndex: 32672 entries, 0 to 32671\n",
            "Data columns (total 7 columns):\n",
            " #   Column             Non-Null Count  Dtype \n",
            "---  ------             --------------  ----- \n",
            " 0   Paper ID           32672 non-null  int64 \n",
            " 1   Authors            32672 non-null  object\n",
            " 2   Abstract           29655 non-null  object\n",
            " 3   Author's Order     32672 non-null  int64 \n",
            " 4   Number of Authors  32672 non-null  int64 \n",
            " 5   Keywords           8834 non-null   object\n",
            " 6   Title              32655 non-null  object\n",
            "dtypes: int64(3), object(4)\n",
            "memory usage: 1.7+ MB\n"
          ]
        }
      ],
      "source": [
        "import os\n",
        "import pandas as pd\n",
        "import numpy as np\n",
        "import ast\n",
        "\n",
        "dir_path = '/content/drive/MyDrive/Pubmed_project/last_data'\n",
        "\n",
        "DATA_PATH = os.path.join(dir_path) \n",
        "all_files = [f for f in os.listdir(DATA_PATH) if f.endswith('.csv')]\n",
        "df = pd.concat([pd.read_csv(os.path.join(DATA_PATH, file), index_col=0) for file in all_files], ignore_index=True)\n",
        "df.info()"
      ]
    },
    {
      "cell_type": "markdown",
      "metadata": {
        "id": "k2b4efOt0ha6"
      },
      "source": [
        "# 1. Preprocess the data:\n",
        "\n",
        "First, preprocess the data to extract unique authors and their collaborations.\n"
      ]
    },
    {
      "cell_type": "code",
      "execution_count": null,
      "metadata": {
        "id": "DgN0b2iy0ha7"
      },
      "outputs": [],
      "source": [
        "clean_author = df.loc[df[\"Author's Order\"] != -1, :]\n",
        "clean_author = clean_author.reset_index()\n",
        "df_noOrder = clean_author.drop(\"Author's Order\", axis=1)\n",
        "df_noOrder['Authors'] = df_noOrder['Authors'].apply(lambda x: ast.literal_eval(x))\n",
        "relationships = []\n",
        "for idx in range(df_noOrder.shape[0]):\n",
        "# Add a relationship to the list for each pair of unique characters within the window\n",
        "    if len(df_noOrder.loc[idx, 'Authors']) > 1:\n",
        "        for id, a in enumerate(df_noOrder.loc[idx, 'Authors'][:-1]):\n",
        "            b = df_noOrder.loc[idx, 'Authors'][id + 1]\n",
        "            relationships.append({\"source\": a, \"target\": b})"
      ]
    },
    {
      "cell_type": "code",
      "execution_count": null,
      "metadata": {
        "id": "OY-yJpPm0ha7"
      },
      "outputs": [],
      "source": [
        "relationship_df = pd.DataFrame(relationships)\n",
        "# pd.set_option('display.max_rows', None)\n",
        "# relationship_df.head()\n",
        "# Sort the cases with a->b and b->a\n",
        "relationship_df = pd.DataFrame(np.sort(relationship_df.values, axis = 1), columns = relationship_df.columns)\n",
        "# relationship_df.head(20)"
      ]
    },
    {
      "cell_type": "code",
      "execution_count": null,
      "metadata": {
        "id": "vsUK8iGE0ha7"
      },
      "outputs": [],
      "source": [
        "# Add a new column with value 1 to the DataFrame\n",
        "relationship_df[\"value\"] = 1\n",
        "\n",
        "# Group the DataFrame by source and target, and sum the values\n",
        "relationship_df2 = relationship_df.groupby([\"source\", \"target\"], sort=False, as_index=False)[\"value\"].sum()\n",
        "# relationship_df2.head(20)"
      ]
    },
    {
      "cell_type": "code",
      "execution_count": null,
      "metadata": {
        "id": "uypsAYPR0ha8"
      },
      "outputs": [],
      "source": [
        "# df_noOrder = df_noOrder.explode('Authors')\n",
        "# df_noOrder = df_noOrder.reset_index()\n"
      ]
    },
    {
      "cell_type": "code",
      "execution_count": null,
      "metadata": {
        "id": "oQVv-uUy0ha8"
      },
      "outputs": [],
      "source": [
        "relationship_df2_1k = relationship_df2.loc[:1000, :]"
      ]
    },
    {
      "cell_type": "markdown",
      "metadata": {
        "id": "Su5So6mM0ha8"
      },
      "source": [
        "# 2. Make the Graph"
      ]
    },
    {
      "cell_type": "code",
      "execution_count": null,
      "metadata": {
        "id": "72T0otu-0ha8"
      },
      "outputs": [],
      "source": [
        "import networkx as nx\n",
        "import matplotlib.pyplot as plt\n",
        "# Create a graph from a pandas dataframe\n",
        "G = nx.from_pandas_edgelist(relationship_df2, \n",
        "                            source = \"source\", \n",
        "                            target = \"target\", \n",
        "                            edge_attr = \"value\", \n",
        "                            create_using = nx.Graph())\n",
        "\n",
        "# plt.figure(figsize=(100,100))\n",
        "# pos = nx.spring_layout(G)\n",
        "# nx.draw(G, with_labels=True, node_color='skyblue', edge_cmap=plt.cm.Blues, pos = pos)\n",
        "# plt.savefig('1k.pdf',dpi=300)\n",
        "# plt.show()"
      ]
    },
    {
      "cell_type": "markdown",
      "metadata": {
        "id": "Fb7SJq1H0ha9"
      },
      "source": [
        "# 3. Embeddings"
      ]
    },
    {
      "cell_type": "code",
      "execution_count": null,
      "metadata": {
        "colab": {
          "referenced_widgets": [
            "79f1354fd4744e92aa5263e21e90c053"
          ]
        },
        "id": "e4euJhll0ha9",
        "outputId": "521c7a96-cdb2-4c02-8dd4-b1da0c9a99bb"
      },
      "outputs": [
        {
          "data": {
            "application/vnd.jupyter.widget-view+json": {
              "model_id": "79f1354fd4744e92aa5263e21e90c053",
              "version_major": 2,
              "version_minor": 0
            },
            "text/plain": [
              "Computing transition probabilities:   0%|          | 0/756 [00:00<?, ?it/s]"
            ]
          },
          "metadata": {},
          "output_type": "display_data"
        },
        {
          "name": "stderr",
          "output_type": "stream",
          "text": [
            "Generating walks (CPU: 2): 100%|██████████| 50/50 [00:02<00:00, 20.34it/s]\n",
            "Generating walks (CPU: 3): 100%|██████████| 50/50 [00:02<00:00, 20.25it/s]\n",
            "Generating walks (CPU: 4): 100%|██████████| 50/50 [00:02<00:00, 20.24it/s]\n",
            "Generating walks (CPU: 1): 100%|██████████| 50/50 [00:02<00:00, 20.17it/s]\n"
          ]
        }
      ],
      "source": [
        "import node2vec\n",
        "import numpy as np\n",
        "\n",
        "# Create the node2vec object with adjusted hyperparameters\n",
        "node2vec = node2vec.Node2Vec(G, dimensions=64, walk_length=30, num_walks=200, p=0.5, q=2, workers=4)\n",
        "\n",
        "# Fit the model to the graph\n",
        "model = node2vec.fit()\n",
        "\n",
        "# Get the node embeddings\n",
        "node_embeddings = {node: model.wv[node] for node in G.nodes()}\n",
        "\n"
      ]
    },
    {
      "cell_type": "code",
      "execution_count": null,
      "metadata": {
        "id": "1inc44Vc0ha9"
      },
      "outputs": [],
      "source": [
        "#print(node_embeddings[0])\n",
        "#print(G.nodes()[0])"
      ]
    }
  ],
  "metadata": {
    "kernelspec": {
      "display_name": "bio",
      "language": "python",
      "name": "python3"
    },
    "language_info": {
      "codemirror_mode": {
        "name": "ipython",
        "version": 3
      },
      "file_extension": ".py",
      "mimetype": "text/x-python",
      "name": "python",
      "nbconvert_exporter": "python",
      "pygments_lexer": "ipython3",
      "version": "3.10.9"
    },
    "colab": {
      "provenance": [],
      "collapsed_sections": [
        "k2b4efOt0ha6"
      ],
      "include_colab_link": true
    }
  },
  "nbformat": 4,
  "nbformat_minor": 0
}
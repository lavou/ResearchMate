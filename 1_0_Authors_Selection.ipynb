{
  "nbformat": 4,
  "nbformat_minor": 0,
  "metadata": {
    "colab": {
      "provenance": [],
      "collapsed_sections": [
        "oBS-uEe443lL",
        "nZQioVAHnUNi",
        "eSVsKkyosdRR",
        "ssCCyb7UtrWh",
        "tfVEwT40icma"
      ],
      "authorship_tag": "ABX9TyPvB6oeRCfAmLgN6q+/mlyi",
      "include_colab_link": true
    },
    "kernelspec": {
      "name": "python3",
      "display_name": "Python 3"
    },
    "language_info": {
      "name": "python"
    }
  },
  "cells": [
    {
      "cell_type": "markdown",
      "metadata": {
        "id": "view-in-github",
        "colab_type": "text"
      },
      "source": [
        "<a href=\"https://colab.research.google.com/github/lavou/ResearchMate/blob/main/1_0_Authors_Selection.ipynb\" target=\"_parent\"><img src=\"https://colab.research.google.com/assets/colab-badge.svg\" alt=\"Open In Colab\"/></a>"
      ]
    },
    {
      "cell_type": "markdown",
      "source": [
        "Select Doudna's most relevant co-authors based on the frequency of publications they have together.\n",
        "---\n",
        "\n",
        "\n",
        "\n",
        "---\n",
        "\n"
      ],
      "metadata": {
        "id": "Lr4cILAikwWS"
      }
    },
    {
      "cell_type": "markdown",
      "source": [
        "#####**Mount, set path & install packages**\n",
        "---\n",
        "\n"
      ],
      "metadata": {
        "id": "oBS-uEe443lL"
      }
    },
    {
      "cell_type": "code",
      "execution_count": null,
      "metadata": {
        "colab": {
          "base_uri": "https://localhost:8080/"
        },
        "id": "skG8vsyVQ_pC",
        "outputId": "7430588e-fdb6-4175-accd-0b234522d829"
      },
      "outputs": [
        {
          "output_type": "stream",
          "name": "stdout",
          "text": [
            "Drive already mounted at /content/drive; to attempt to forcibly remount, call drive.mount(\"/content/drive\", force_remount=True).\n"
          ]
        }
      ],
      "source": [
        "from google.colab import drive\n",
        "drive.mount('/content/drive')"
      ]
    },
    {
      "cell_type": "code",
      "source": [
        "# Set the path to the directory containing the csv file\n",
        "dir_path = '/content/drive/MyDrive/Pubmed_project/last_data'\n",
        "\n",
        "### DELETE ####\n",
        "# Set the name of the CSV file you want to load\n",
        "#file_name = 'Doudna JA.csv'\n",
        "# Load the CSV file into a DataFrame\n",
        "#df = pd.read_csv(f\"{data_path}/{file_name}\")"
      ],
      "metadata": {
        "id": "m3LLDN-2k_Ir"
      },
      "execution_count": null,
      "outputs": []
    },
    {
      "cell_type": "code",
      "source": [
        "import os\n",
        "import pandas as pd\n",
        "from collections import Counter"
      ],
      "metadata": {
        "id": "cvcD-t0RnUit"
      },
      "execution_count": null,
      "outputs": []
    },
    {
      "cell_type": "markdown",
      "source": [
        "#####**Select the co-authors with the highest frequency of collaboration.**\n",
        "---\n",
        "\n"
      ],
      "metadata": {
        "id": "nZQioVAHnUNi"
      }
    },
    {
      "cell_type": "code",
      "source": [
        "# Read in the Doudna JA.csv file \n",
        "doudna_df = pd.read_csv(os.path.join(dir_path, 'Doudna JA.csv'))"
      ],
      "metadata": {
        "id": "jAQrrnedqcN5"
      },
      "execution_count": null,
      "outputs": []
    },
    {
      "cell_type": "code",
      "source": [
        "doudna_df.info()"
      ],
      "metadata": {
        "colab": {
          "base_uri": "https://localhost:8080/"
        },
        "id": "Plrixy4lqwIh",
        "outputId": "2ae2a9df-75c5-4937-97bb-4406e18380f8"
      },
      "execution_count": null,
      "outputs": [
        {
          "output_type": "stream",
          "name": "stdout",
          "text": [
            "<class 'pandas.core.frame.DataFrame'>\n",
            "RangeIndex: 346 entries, 0 to 345\n",
            "Data columns (total 8 columns):\n",
            " #   Column             Non-Null Count  Dtype \n",
            "---  ------             --------------  ----- \n",
            " 0   Unnamed: 0         346 non-null    int64 \n",
            " 1   Paper ID           346 non-null    int64 \n",
            " 2   Authors            346 non-null    object\n",
            " 3   Abstract           316 non-null    object\n",
            " 4   Author's Order     346 non-null    int64 \n",
            " 5   Number of Authors  346 non-null    int64 \n",
            " 6   Keywords           55 non-null     object\n",
            " 7   Title              346 non-null    object\n",
            "dtypes: int64(4), object(4)\n",
            "memory usage: 21.8+ KB\n"
          ]
        }
      ]
    },
    {
      "cell_type": "code",
      "source": [
        "# Extract the co-authors of Doudna JA from each row in the 'Authors' column\n",
        "co_authors = []\n",
        "for authors_list in doudna_df['Authors']:\n",
        "    for author in authors_list.strip('[]').replace(\"'\", \"\").split(', '):\n",
        "        co_authors.append(author)\n",
        "\n",
        "# Count the frequency of each co-author in the list of co-authors\n",
        "co_author_counts = Counter(co_authors)\n",
        "\n",
        "# Sort the co-authors by their frequency counts and select the top 100\n",
        "top_co_authors = co_author_counts.most_common(100)\n",
        "\n",
        "# Create a list of the names of the top co-authors\n",
        "most_frequent_co_authors = [co_author[0] for co_author in top_co_authors]\n",
        "\n",
        "print(most_frequent_co_authors)"
      ],
      "metadata": {
        "colab": {
          "base_uri": "https://localhost:8080/"
        },
        "id": "HIoBExSWsCxJ",
        "outputId": "78a2c468-eecd-4d9f-bef4-b61d20235243"
      },
      "execution_count": null,
      "outputs": [
        {
          "output_type": "stream",
          "name": "stdout",
          "text": [
            "['Doudna JA', 'Zhou K', 'Knott GJ', 'Nogales E', 'Ma E', 'Sternberg SH', 'Banfield JF', 'Jinek M', 'Harrington LB', 'Cate JH', 'Al-Shayeb B', 'Chen JS', 'Fellmann C', 'Ciling A', 'Savage DF', 'Staahl BT', 'Wiedenheft B', 'Taylor DW', 'Fraser CS', 'Szostak JW', 'Ott M', 'Liu TY', 'Tsuchida CA', 'Wright AV', 'Liu JJ', 'Jiang F', '\"Ferré-DAmaré AR\"', 'Kumar GR', 'Stahl EC', 'Lin-Shiao E', 'Cress BF', 'Cofsky JC', 'Hamilton JR', 'Iavarone AT', 'Kranzusch PJ', 'Batey RT', 'IGI Testing Consortium', 'Burstein D', 'Ehrenberg AJ', 'Oakes BL', 'Arkin AP', '\"OConnell MR\"', 'Floor SN', 'Mortimer SA', 'Doherty EA', 'Soczek KM', 'Son S', 'Bhuiya A', 'Switz NA', 'Armstrong M', 'Harris AR', 'Smock DCJ', 'Moehle EA', 'Fletcher DA', 'Witkowsky LB', 'Hirsh A', 'Liu DR', 'East-Seletsky A', 'Bai Y', 'Nuñez JK', 'van der Oost J', 'Kidwell MA', 'Ke A', 'MacRae IJ', 'Kieft JS', 'Chen IP', 'Syed AM', 'Khalid MM', 'Pausch P', 'Agrawal S', 'Escajeda AM', 'Prywes N', 'Mok A', 'Kim S', 'Lareau LF', 'Tan MX', 'Hsu PD', 'Chen PY', 'Marson A', 'Lew RJ', 'Pestal K', 'Gildea HK', 'Keller A', 'Urnov FD', 'Ringeisen BR', 'Giannikopoulos P', 'Thornton BW', 'Lobba MJ', 'Wilson RC', 'Watters KE', 'Kornfeld JE', 'Lin S', 'Noland CL', 'Barendregt A', 'Haurwitz RE', 'Coyle SM', 'Hershey JW', 'Cech TR', 'Taha TY', 'Tabata T']\n"
          ]
        }
      ]
    },
    {
      "cell_type": "code",
      "source": [
        "# Save a list with all co-authors\n",
        "with open('/content/drive/MyDrive/Pubmed_project/Lists/all_co_authors_Doudna.txt', 'w') as f:\n",
        "    for item in co_authors:\n",
        "        f.write(\"%s\\n\" % item)"
      ],
      "metadata": {
        "id": "a75jSDnf0IuS"
      },
      "execution_count": null,
      "outputs": []
    },
    {
      "cell_type": "code",
      "source": [
        "len(co_authors)"
      ],
      "metadata": {
        "colab": {
          "base_uri": "https://localhost:8080/"
        },
        "id": "oiThUOGl1_e-",
        "outputId": "30db3f6a-9460-4d41-8747-5cf957a7543f"
      },
      "execution_count": null,
      "outputs": [
        {
          "output_type": "execute_result",
          "data": {
            "text/plain": [
              "2538"
            ]
          },
          "metadata": {},
          "execution_count": 12
        }
      ]
    },
    {
      "cell_type": "code",
      "source": [
        "# Save a list with the 100 top co-authors\n",
        "folder_path = '/content/drive/MyDrive/Pubmed_project/Lists' \n",
        "\n",
        "if not os.path.exists(folder_path):\n",
        "    os.makedirs(folder_path)\n",
        "\n",
        "with open('/content/drive/MyDrive/Pubmed_project/Lists' + '/100_topAuthors_Doudna.txt', 'w') as f:\n",
        "    for item in most_frequent_co_authors:\n",
        "        f.write(\"%s\\n\" % item)"
      ],
      "metadata": {
        "id": "I1IR95tOyhe_"
      },
      "execution_count": null,
      "outputs": []
    },
    {
      "cell_type": "code",
      "source": [
        "len(most_frequent_co_authors)"
      ],
      "metadata": {
        "colab": {
          "base_uri": "https://localhost:8080/"
        },
        "id": "KLbDU4CSsk4e",
        "outputId": "77c3f330-227f-41fc-ac26-6a797ecd8a4b"
      },
      "execution_count": null,
      "outputs": [
        {
          "output_type": "execute_result",
          "data": {
            "text/plain": [
              "100"
            ]
          },
          "metadata": {},
          "execution_count": 14
        }
      ]
    },
    {
      "cell_type": "markdown",
      "source": [
        "#####**Create a single dataframe with all 100 authors, by merging their csvs.**\n",
        "---\n",
        "\n",
        "\n",
        "\n"
      ],
      "metadata": {
        "id": "eSVsKkyosdRR"
      }
    },
    {
      "cell_type": "markdown",
      "source": [
        "######1. 100 authors, Doudna included \n",
        "---"
      ],
      "metadata": {
        "id": "MJbN-vEn6ipS"
      }
    },
    {
      "cell_type": "code",
      "source": [
        "# create a list of CSV file paths for the most frequent co-authors\n",
        "co_author_csvs = []\n",
        "for co_author in most_frequent_co_authors:\n",
        "    filename = f\"{co_author}.csv\"\n",
        "    csv_path = os.path.join(dir_path, filename)\n",
        "    if os.path.exists(csv_path):\n",
        "        co_author_csvs.append(csv_path)"
      ],
      "metadata": {
        "id": "SIAUh1rbt5Hv"
      },
      "execution_count": null,
      "outputs": []
    },
    {
      "cell_type": "code",
      "source": [
        "# concatenate the CSV files of all authors into a single dataframe\n",
        "dfs = []\n",
        "for csv_path in co_author_csvs:\n",
        "    df = pd.read_csv(csv_path)\n",
        "    dfs.append(df)\n",
        "concatenated_df = pd.concat(dfs)"
      ],
      "metadata": {
        "id": "o0aVIYR7t5MO"
      },
      "execution_count": null,
      "outputs": []
    },
    {
      "cell_type": "code",
      "source": [
        "len(concatenated_df)"
      ],
      "metadata": {
        "colab": {
          "base_uri": "https://localhost:8080/"
        },
        "id": "LXO-v9VHxctr",
        "outputId": "313275ef-5a7e-4a5b-8e8e-ab3e2dddf60f"
      },
      "execution_count": null,
      "outputs": [
        {
          "output_type": "execute_result",
          "data": {
            "text/plain": [
              "3448"
            ]
          },
          "metadata": {},
          "execution_count": 17
        }
      ]
    },
    {
      "cell_type": "code",
      "source": [
        "# save the concatenated dataframe to a new CSV file\n",
        "#concatenated_df.to_csv('/path/to/concatenated_file.csv', index=False)\n",
        "# changed the directory to 'Dataframes'\n",
        "\n",
        "output_path = os.path.join(dir_path, '100_Authors_df_with_Doudna.csv')\n",
        "concatenated_df.to_csv(output_path, index=False)"
      ],
      "metadata": {
        "id": "ABSfONK8xRoD"
      },
      "execution_count": null,
      "outputs": []
    },
    {
      "cell_type": "markdown",
      "source": [
        "######2. 100 authors, Doudna excluded\n",
        "---"
      ],
      "metadata": {
        "id": "ssCCyb7UtrWh"
      }
    },
    {
      "cell_type": "code",
      "source": [
        "# extract the co-authors of Doudna JA from each row in the 'Authors' column\n",
        "co_authors = []\n",
        "for authors_list in doudna_df['Authors']:\n",
        "    for author in authors_list.strip('[]').replace(\"'\", \"\").split(', '):\n",
        "        if author != 'Doudna JA':\n",
        "            co_authors.append(author)\n",
        "\n",
        "# count the frequency of each co-author in the list of co-authors\n",
        "co_author_counts = Counter(co_authors)\n",
        "\n",
        "# sort the co-authors by their frequency counts and select the top 100\n",
        "top_co_authors = co_author_counts.most_common(100)\n",
        "\n",
        "# create a list of the names of the top co-authors\n",
        "most_frequent_co_authors = [co_author[0] for co_author in top_co_authors]\n",
        "\n",
        "print(most_frequent_co_authors)"
      ],
      "metadata": {
        "colab": {
          "base_uri": "https://localhost:8080/"
        },
        "id": "yCAPMy1ctyMw",
        "outputId": "6bf1e1ff-3c43-40b5-bb65-31f39e871819"
      },
      "execution_count": null,
      "outputs": [
        {
          "output_type": "stream",
          "name": "stdout",
          "text": [
            "['Zhou K', 'Knott GJ', 'Nogales E', 'Ma E', 'Sternberg SH', 'Banfield JF', 'Jinek M', 'Harrington LB', 'Cate JH', 'Al-Shayeb B', 'Chen JS', 'Fellmann C', 'Ciling A', 'Savage DF', 'Staahl BT', 'Wiedenheft B', 'Taylor DW', 'Fraser CS', 'Szostak JW', 'Ott M', 'Liu TY', 'Tsuchida CA', 'Wright AV', 'Liu JJ', 'Jiang F', '\"Ferré-DAmaré AR\"', 'Kumar GR', 'Stahl EC', 'Lin-Shiao E', 'Cress BF', 'Cofsky JC', 'Hamilton JR', 'Iavarone AT', 'Kranzusch PJ', 'Batey RT', 'IGI Testing Consortium', 'Burstein D', 'Ehrenberg AJ', 'Oakes BL', 'Arkin AP', '\"OConnell MR\"', 'Floor SN', 'Mortimer SA', 'Doherty EA', 'Soczek KM', 'Son S', 'Bhuiya A', 'Switz NA', 'Armstrong M', 'Harris AR', 'Smock DCJ', 'Moehle EA', 'Fletcher DA', 'Witkowsky LB', 'Hirsh A', 'Liu DR', 'East-Seletsky A', 'Bai Y', 'Nuñez JK', 'van der Oost J', 'Kidwell MA', 'Ke A', 'MacRae IJ', 'Kieft JS', 'Chen IP', 'Syed AM', 'Khalid MM', 'Pausch P', 'Agrawal S', 'Escajeda AM', 'Prywes N', 'Mok A', 'Kim S', 'Lareau LF', 'Tan MX', 'Hsu PD', 'Chen PY', 'Marson A', 'Lew RJ', 'Pestal K', 'Gildea HK', 'Keller A', 'Urnov FD', 'Ringeisen BR', 'Giannikopoulos P', 'Thornton BW', 'Lobba MJ', 'Wilson RC', 'Watters KE', 'Kornfeld JE', 'Lin S', 'Noland CL', 'Barendregt A', 'Haurwitz RE', 'Coyle SM', 'Hershey JW', 'Cech TR', 'Taha TY', 'Tabata T', 'Adler BA']\n"
          ]
        }
      ]
    },
    {
      "cell_type": "code",
      "source": [
        "# create a list of CSV file paths for the most frequent co-authors\n",
        "co_author_csvs = []\n",
        "for co_author in most_frequent_co_authors:\n",
        "    filename = f\"{co_author}.csv\"\n",
        "    csv_path = os.path.join(dir_path, filename)\n",
        "    if os.path.exists(csv_path):\n",
        "        co_author_csvs.append(csv_path)\n",
        "\n",
        "# concatenate the CSV files into a single DataFrame\n",
        "dfs = []\n",
        "for csv_path in co_author_csvs:\n",
        "    df = pd.read_csv(csv_path)\n",
        "    dfs.append(df)\n",
        "concatenated_df_2 = pd.concat(dfs)"
      ],
      "metadata": {
        "id": "t5KqzQvAx9cK"
      },
      "execution_count": null,
      "outputs": []
    },
    {
      "cell_type": "code",
      "source": [
        "len(concatenated_df_2)"
      ],
      "metadata": {
        "colab": {
          "base_uri": "https://localhost:8080/"
        },
        "id": "_X-ehnmEx9iw",
        "outputId": "eacc87f1-1946-4e0c-fa30-d2ec74c8b91d"
      },
      "execution_count": null,
      "outputs": [
        {
          "output_type": "execute_result",
          "data": {
            "text/plain": [
              "3122"
            ]
          },
          "metadata": {},
          "execution_count": 21
        }
      ]
    },
    {
      "cell_type": "code",
      "source": [
        "# save the concatenated DataFrame to a new CSV file\n",
        "\n",
        "output_path = os.path.join(dir_path, '100_Authors_df_without_Doudna.csv')\n",
        "concatenated_df.to_csv(output_path, index=False)"
      ],
      "metadata": {
        "id": "b2Sk5fwiyHfQ"
      },
      "execution_count": null,
      "outputs": []
    },
    {
      "cell_type": "code",
      "source": [],
      "metadata": {
        "id": "OL_hVZk8ibPn"
      },
      "execution_count": null,
      "outputs": []
    },
    {
      "cell_type": "markdown",
      "source": [
        "######Double-check the dataframes\n",
        "---\n",
        "\n"
      ],
      "metadata": {
        "id": "tfVEwT40icma"
      }
    },
    {
      "cell_type": "code",
      "source": [
        "concatenated_df"
      ],
      "metadata": {
        "colab": {
          "base_uri": "https://localhost:8080/"
        },
        "id": "NxvntEXoigS7",
        "outputId": "746b010f-a834-4454-9058-a14138e393a7"
      },
      "execution_count": null,
      "outputs": [
        {
          "output_type": "execute_result",
          "data": {
            "text/plain": [
              "    Unnamed: 0  Paper ID                                            Authors  \\\n",
              "0            0  36798416  ['Taha TY', 'Chen IP', 'Hayashi JM', 'Tabata T...   \n",
              "1            1  36797405               ['Yoon PH', 'Adler BA', 'Doudna JA']   \n",
              "2            2  36690762         ['Colognori D', 'Trinidad M', 'Doudna JA']   \n",
              "3            3  36656942                           ['Wang JY', 'Doudna JA']   \n",
              "4            4  36652483  ['Li Z', 'Zhong Z', 'Wu Z', 'Pausch P', 'Al-Sh...   \n",
              "..         ...       ...                                                ...   \n",
              "17          17  29682593  ['Hanigan TW', 'Danes JM', 'Taha TY', 'Frasor ...   \n",
              "18          18  29080240  ['Abdelkarim H', 'Neelarapu R', 'Madriaga A', ...   \n",
              "19          19  29045501  ['Hanigan TW', 'Taha TY', 'Aboukhatwa SM', 'Fr...   \n",
              "20          20  28943357  ['Hanigan TW', 'Aboukhatwa SM', 'Taha TY', 'Fr...   \n",
              "21          21  28835796  ['Taha TY', 'Aboukhatwa SM', 'Knopp RC', 'Ikeg...   \n",
              "\n",
              "                                             Abstract  Author's Order  \\\n",
              "0   Although the SARS-CoV-2 Omicron variant (BA.1)...              18   \n",
              "1                                                 NaN               3   \n",
              "2   Robust and precise transcript targeting in mam...               3   \n",
              "3   The advent of clustered regularly interspaced ...               2   \n",
              "4   Clustered regularly interspaced short palindro...               7   \n",
              "..                                                ...             ...   \n",
              "17  Histone deacetylase (HDAC) catalyzes the remov...               3   \n",
              "18  Histone deacetylases (HDACs) are promising dru...               8   \n",
              "19  The mechanism of action of histone deacetylase...               2   \n",
              "20  Histone deacetylase (HDAC) catalytic activity ...               3   \n",
              "21  Histone deacetylase 8 (HDAC8) is a promising d...               1   \n",
              "\n",
              "    Number of Authors                                           Keywords  \\\n",
              "0                  19                                                NaN   \n",
              "1                   3                                                NaN   \n",
              "2                   3                                                NaN   \n",
              "3                   2                                                NaN   \n",
              "4                   8  ['CRISPR-CasΦ', 'CasΦ variants', 'DNA methylat...   \n",
              "..                ...                                                ...   \n",
              "17                  5  ['chromatin immunoprecipitation', 'histone dea...   \n",
              "18                 11  ['amines', 'antitumor agents', 'epigenetics', ...   \n",
              "19                  5                                                NaN   \n",
              "20                  5  ['breast cancer', 'c-Jun N-terminal kinase', '...   \n",
              "21                 11  ['HDAC8', 'Histone deacetylase', 'hydroxamate'...   \n",
              "\n",
              "                                                Title  \n",
              "0   Rapid assembly of SARS-CoV-2 genomes reveals a...  \n",
              "1           To TnpB or not TnpB? Cas12 is the answer.  \n",
              "2   Precise transcript targeting by CRISPR-Csm com...  \n",
              "3   CRISPR technology: A decade of genome editing ...  \n",
              "4   Genome editing in plants using the compact edi...  \n",
              "..                                                ...  \n",
              "17  Histone deacetylase inhibitor-based chromatin ...  \n",
              "18  Design, Synthesis, Molecular Modeling, and Bio...  \n",
              "19  Scaffold dependent histone deacetylase (HDAC) ...  \n",
              "20  Divergent JNK Phosphorylation of HDAC3 in Trip...  \n",
              "21  Design, Synthesis, and Biological Evaluation o...  \n",
              "\n",
              "[3448 rows x 8 columns]"
            ],
            "text/html": [
              "\n",
              "  <div id=\"df-c9423186-6c77-4846-980a-9f771cdeb93d\">\n",
              "    <div class=\"colab-df-container\">\n",
              "      <div>\n",
              "<style scoped>\n",
              "    .dataframe tbody tr th:only-of-type {\n",
              "        vertical-align: middle;\n",
              "    }\n",
              "\n",
              "    .dataframe tbody tr th {\n",
              "        vertical-align: top;\n",
              "    }\n",
              "\n",
              "    .dataframe thead th {\n",
              "        text-align: right;\n",
              "    }\n",
              "</style>\n",
              "<table border=\"1\" class=\"dataframe\">\n",
              "  <thead>\n",
              "    <tr style=\"text-align: right;\">\n",
              "      <th></th>\n",
              "      <th>Unnamed: 0</th>\n",
              "      <th>Paper ID</th>\n",
              "      <th>Authors</th>\n",
              "      <th>Abstract</th>\n",
              "      <th>Author's Order</th>\n",
              "      <th>Number of Authors</th>\n",
              "      <th>Keywords</th>\n",
              "      <th>Title</th>\n",
              "    </tr>\n",
              "  </thead>\n",
              "  <tbody>\n",
              "    <tr>\n",
              "      <th>0</th>\n",
              "      <td>0</td>\n",
              "      <td>36798416</td>\n",
              "      <td>['Taha TY', 'Chen IP', 'Hayashi JM', 'Tabata T...</td>\n",
              "      <td>Although the SARS-CoV-2 Omicron variant (BA.1)...</td>\n",
              "      <td>18</td>\n",
              "      <td>19</td>\n",
              "      <td>NaN</td>\n",
              "      <td>Rapid assembly of SARS-CoV-2 genomes reveals a...</td>\n",
              "    </tr>\n",
              "    <tr>\n",
              "      <th>1</th>\n",
              "      <td>1</td>\n",
              "      <td>36797405</td>\n",
              "      <td>['Yoon PH', 'Adler BA', 'Doudna JA']</td>\n",
              "      <td>NaN</td>\n",
              "      <td>3</td>\n",
              "      <td>3</td>\n",
              "      <td>NaN</td>\n",
              "      <td>To TnpB or not TnpB? Cas12 is the answer.</td>\n",
              "    </tr>\n",
              "    <tr>\n",
              "      <th>2</th>\n",
              "      <td>2</td>\n",
              "      <td>36690762</td>\n",
              "      <td>['Colognori D', 'Trinidad M', 'Doudna JA']</td>\n",
              "      <td>Robust and precise transcript targeting in mam...</td>\n",
              "      <td>3</td>\n",
              "      <td>3</td>\n",
              "      <td>NaN</td>\n",
              "      <td>Precise transcript targeting by CRISPR-Csm com...</td>\n",
              "    </tr>\n",
              "    <tr>\n",
              "      <th>3</th>\n",
              "      <td>3</td>\n",
              "      <td>36656942</td>\n",
              "      <td>['Wang JY', 'Doudna JA']</td>\n",
              "      <td>The advent of clustered regularly interspaced ...</td>\n",
              "      <td>2</td>\n",
              "      <td>2</td>\n",
              "      <td>NaN</td>\n",
              "      <td>CRISPR technology: A decade of genome editing ...</td>\n",
              "    </tr>\n",
              "    <tr>\n",
              "      <th>4</th>\n",
              "      <td>4</td>\n",
              "      <td>36652483</td>\n",
              "      <td>['Li Z', 'Zhong Z', 'Wu Z', 'Pausch P', 'Al-Sh...</td>\n",
              "      <td>Clustered regularly interspaced short palindro...</td>\n",
              "      <td>7</td>\n",
              "      <td>8</td>\n",
              "      <td>['CRISPR-CasΦ', 'CasΦ variants', 'DNA methylat...</td>\n",
              "      <td>Genome editing in plants using the compact edi...</td>\n",
              "    </tr>\n",
              "    <tr>\n",
              "      <th>...</th>\n",
              "      <td>...</td>\n",
              "      <td>...</td>\n",
              "      <td>...</td>\n",
              "      <td>...</td>\n",
              "      <td>...</td>\n",
              "      <td>...</td>\n",
              "      <td>...</td>\n",
              "      <td>...</td>\n",
              "    </tr>\n",
              "    <tr>\n",
              "      <th>17</th>\n",
              "      <td>17</td>\n",
              "      <td>29682593</td>\n",
              "      <td>['Hanigan TW', 'Danes JM', 'Taha TY', 'Frasor ...</td>\n",
              "      <td>Histone deacetylase (HDAC) catalyzes the remov...</td>\n",
              "      <td>3</td>\n",
              "      <td>5</td>\n",
              "      <td>['chromatin immunoprecipitation', 'histone dea...</td>\n",
              "      <td>Histone deacetylase inhibitor-based chromatin ...</td>\n",
              "    </tr>\n",
              "    <tr>\n",
              "      <th>18</th>\n",
              "      <td>18</td>\n",
              "      <td>29080240</td>\n",
              "      <td>['Abdelkarim H', 'Neelarapu R', 'Madriaga A', ...</td>\n",
              "      <td>Histone deacetylases (HDACs) are promising dru...</td>\n",
              "      <td>8</td>\n",
              "      <td>11</td>\n",
              "      <td>['amines', 'antitumor agents', 'epigenetics', ...</td>\n",
              "      <td>Design, Synthesis, Molecular Modeling, and Bio...</td>\n",
              "    </tr>\n",
              "    <tr>\n",
              "      <th>19</th>\n",
              "      <td>19</td>\n",
              "      <td>29045501</td>\n",
              "      <td>['Hanigan TW', 'Taha TY', 'Aboukhatwa SM', 'Fr...</td>\n",
              "      <td>The mechanism of action of histone deacetylase...</td>\n",
              "      <td>2</td>\n",
              "      <td>5</td>\n",
              "      <td>NaN</td>\n",
              "      <td>Scaffold dependent histone deacetylase (HDAC) ...</td>\n",
              "    </tr>\n",
              "    <tr>\n",
              "      <th>20</th>\n",
              "      <td>20</td>\n",
              "      <td>28943357</td>\n",
              "      <td>['Hanigan TW', 'Aboukhatwa SM', 'Taha TY', 'Fr...</td>\n",
              "      <td>Histone deacetylase (HDAC) catalytic activity ...</td>\n",
              "      <td>3</td>\n",
              "      <td>5</td>\n",
              "      <td>['breast cancer', 'c-Jun N-terminal kinase', '...</td>\n",
              "      <td>Divergent JNK Phosphorylation of HDAC3 in Trip...</td>\n",
              "    </tr>\n",
              "    <tr>\n",
              "      <th>21</th>\n",
              "      <td>21</td>\n",
              "      <td>28835796</td>\n",
              "      <td>['Taha TY', 'Aboukhatwa SM', 'Knopp RC', 'Ikeg...</td>\n",
              "      <td>Histone deacetylase 8 (HDAC8) is a promising d...</td>\n",
              "      <td>1</td>\n",
              "      <td>11</td>\n",
              "      <td>['HDAC8', 'Histone deacetylase', 'hydroxamate'...</td>\n",
              "      <td>Design, Synthesis, and Biological Evaluation o...</td>\n",
              "    </tr>\n",
              "  </tbody>\n",
              "</table>\n",
              "<p>3448 rows × 8 columns</p>\n",
              "</div>\n",
              "      <button class=\"colab-df-convert\" onclick=\"convertToInteractive('df-c9423186-6c77-4846-980a-9f771cdeb93d')\"\n",
              "              title=\"Convert this dataframe to an interactive table.\"\n",
              "              style=\"display:none;\">\n",
              "        \n",
              "  <svg xmlns=\"http://www.w3.org/2000/svg\" height=\"24px\"viewBox=\"0 0 24 24\"\n",
              "       width=\"24px\">\n",
              "    <path d=\"M0 0h24v24H0V0z\" fill=\"none\"/>\n",
              "    <path d=\"M18.56 5.44l.94 2.06.94-2.06 2.06-.94-2.06-.94-.94-2.06-.94 2.06-2.06.94zm-11 1L8.5 8.5l.94-2.06 2.06-.94-2.06-.94L8.5 2.5l-.94 2.06-2.06.94zm10 10l.94 2.06.94-2.06 2.06-.94-2.06-.94-.94-2.06-.94 2.06-2.06.94z\"/><path d=\"M17.41 7.96l-1.37-1.37c-.4-.4-.92-.59-1.43-.59-.52 0-1.04.2-1.43.59L10.3 9.45l-7.72 7.72c-.78.78-.78 2.05 0 2.83L4 21.41c.39.39.9.59 1.41.59.51 0 1.02-.2 1.41-.59l7.78-7.78 2.81-2.81c.8-.78.8-2.07 0-2.86zM5.41 20L4 18.59l7.72-7.72 1.47 1.35L5.41 20z\"/>\n",
              "  </svg>\n",
              "      </button>\n",
              "      \n",
              "  <style>\n",
              "    .colab-df-container {\n",
              "      display:flex;\n",
              "      flex-wrap:wrap;\n",
              "      gap: 12px;\n",
              "    }\n",
              "\n",
              "    .colab-df-convert {\n",
              "      background-color: #E8F0FE;\n",
              "      border: none;\n",
              "      border-radius: 50%;\n",
              "      cursor: pointer;\n",
              "      display: none;\n",
              "      fill: #1967D2;\n",
              "      height: 32px;\n",
              "      padding: 0 0 0 0;\n",
              "      width: 32px;\n",
              "    }\n",
              "\n",
              "    .colab-df-convert:hover {\n",
              "      background-color: #E2EBFA;\n",
              "      box-shadow: 0px 1px 2px rgba(60, 64, 67, 0.3), 0px 1px 3px 1px rgba(60, 64, 67, 0.15);\n",
              "      fill: #174EA6;\n",
              "    }\n",
              "\n",
              "    [theme=dark] .colab-df-convert {\n",
              "      background-color: #3B4455;\n",
              "      fill: #D2E3FC;\n",
              "    }\n",
              "\n",
              "    [theme=dark] .colab-df-convert:hover {\n",
              "      background-color: #434B5C;\n",
              "      box-shadow: 0px 1px 3px 1px rgba(0, 0, 0, 0.15);\n",
              "      filter: drop-shadow(0px 1px 2px rgba(0, 0, 0, 0.3));\n",
              "      fill: #FFFFFF;\n",
              "    }\n",
              "  </style>\n",
              "\n",
              "      <script>\n",
              "        const buttonEl =\n",
              "          document.querySelector('#df-c9423186-6c77-4846-980a-9f771cdeb93d button.colab-df-convert');\n",
              "        buttonEl.style.display =\n",
              "          google.colab.kernel.accessAllowed ? 'block' : 'none';\n",
              "\n",
              "        async function convertToInteractive(key) {\n",
              "          const element = document.querySelector('#df-c9423186-6c77-4846-980a-9f771cdeb93d');\n",
              "          const dataTable =\n",
              "            await google.colab.kernel.invokeFunction('convertToInteractive',\n",
              "                                                     [key], {});\n",
              "          if (!dataTable) return;\n",
              "\n",
              "          const docLinkHtml = 'Like what you see? Visit the ' +\n",
              "            '<a target=\"_blank\" href=https://colab.research.google.com/notebooks/data_table.ipynb>data table notebook</a>'\n",
              "            + ' to learn more about interactive tables.';\n",
              "          element.innerHTML = '';\n",
              "          dataTable['output_type'] = 'display_data';\n",
              "          await google.colab.output.renderOutput(dataTable, element);\n",
              "          const docLink = document.createElement('div');\n",
              "          docLink.innerHTML = docLinkHtml;\n",
              "          element.appendChild(docLink);\n",
              "        }\n",
              "      </script>\n",
              "    </div>\n",
              "  </div>\n",
              "  "
            ]
          },
          "metadata": {},
          "execution_count": 23
        }
      ]
    },
    {
      "cell_type": "code",
      "source": [
        "type(concatenated_df)"
      ],
      "metadata": {
        "colab": {
          "base_uri": "https://localhost:8080/"
        },
        "id": "4f2YyMx_jTKS",
        "outputId": "030a8b81-2580-4ee6-b1ff-95b535026f38"
      },
      "execution_count": null,
      "outputs": [
        {
          "output_type": "execute_result",
          "data": {
            "text/plain": [
              "pandas.core.frame.DataFrame"
            ]
          },
          "metadata": {},
          "execution_count": 24
        }
      ]
    },
    {
      "cell_type": "code",
      "source": [
        "concatenated_df.shape"
      ],
      "metadata": {
        "colab": {
          "base_uri": "https://localhost:8080/"
        },
        "id": "tQWBjCoNjtft",
        "outputId": "df88687c-ec1a-4129-df37-bdc02b6fb0e9"
      },
      "execution_count": null,
      "outputs": [
        {
          "output_type": "execute_result",
          "data": {
            "text/plain": [
              "(3448, 8)"
            ]
          },
          "metadata": {},
          "execution_count": 25
        }
      ]
    },
    {
      "cell_type": "code",
      "source": [
        "len(concatenated_df)"
      ],
      "metadata": {
        "colab": {
          "base_uri": "https://localhost:8080/"
        },
        "id": "iHAYOC3ej8MS",
        "outputId": "f94edceb-632c-497b-8adf-fbc3b37d1100"
      },
      "execution_count": null,
      "outputs": [
        {
          "output_type": "execute_result",
          "data": {
            "text/plain": [
              "3448"
            ]
          },
          "metadata": {},
          "execution_count": 26
        }
      ]
    },
    {
      "cell_type": "code",
      "source": [
        "concatenated_df"
      ],
      "metadata": {
        "colab": {
          "base_uri": "https://localhost:8080/"
        },
        "id": "jR784umxj_Om",
        "outputId": "987298f2-8c6a-4fd9-b2c8-3ccd8a183c7a"
      },
      "execution_count": null,
      "outputs": [
        {
          "output_type": "execute_result",
          "data": {
            "text/plain": [
              "    Unnamed: 0  Paper ID                                            Authors  \\\n",
              "0            0  36798416  ['Taha TY', 'Chen IP', 'Hayashi JM', 'Tabata T...   \n",
              "1            1  36797405               ['Yoon PH', 'Adler BA', 'Doudna JA']   \n",
              "2            2  36690762         ['Colognori D', 'Trinidad M', 'Doudna JA']   \n",
              "3            3  36656942                           ['Wang JY', 'Doudna JA']   \n",
              "4            4  36652483  ['Li Z', 'Zhong Z', 'Wu Z', 'Pausch P', 'Al-Sh...   \n",
              "..         ...       ...                                                ...   \n",
              "17          17  29682593  ['Hanigan TW', 'Danes JM', 'Taha TY', 'Frasor ...   \n",
              "18          18  29080240  ['Abdelkarim H', 'Neelarapu R', 'Madriaga A', ...   \n",
              "19          19  29045501  ['Hanigan TW', 'Taha TY', 'Aboukhatwa SM', 'Fr...   \n",
              "20          20  28943357  ['Hanigan TW', 'Aboukhatwa SM', 'Taha TY', 'Fr...   \n",
              "21          21  28835796  ['Taha TY', 'Aboukhatwa SM', 'Knopp RC', 'Ikeg...   \n",
              "\n",
              "                                             Abstract  Author's Order  \\\n",
              "0   Although the SARS-CoV-2 Omicron variant (BA.1)...              18   \n",
              "1                                                 NaN               3   \n",
              "2   Robust and precise transcript targeting in mam...               3   \n",
              "3   The advent of clustered regularly interspaced ...               2   \n",
              "4   Clustered regularly interspaced short palindro...               7   \n",
              "..                                                ...             ...   \n",
              "17  Histone deacetylase (HDAC) catalyzes the remov...               3   \n",
              "18  Histone deacetylases (HDACs) are promising dru...               8   \n",
              "19  The mechanism of action of histone deacetylase...               2   \n",
              "20  Histone deacetylase (HDAC) catalytic activity ...               3   \n",
              "21  Histone deacetylase 8 (HDAC8) is a promising d...               1   \n",
              "\n",
              "    Number of Authors                                           Keywords  \\\n",
              "0                  19                                                NaN   \n",
              "1                   3                                                NaN   \n",
              "2                   3                                                NaN   \n",
              "3                   2                                                NaN   \n",
              "4                   8  ['CRISPR-CasΦ', 'CasΦ variants', 'DNA methylat...   \n",
              "..                ...                                                ...   \n",
              "17                  5  ['chromatin immunoprecipitation', 'histone dea...   \n",
              "18                 11  ['amines', 'antitumor agents', 'epigenetics', ...   \n",
              "19                  5                                                NaN   \n",
              "20                  5  ['breast cancer', 'c-Jun N-terminal kinase', '...   \n",
              "21                 11  ['HDAC8', 'Histone deacetylase', 'hydroxamate'...   \n",
              "\n",
              "                                                Title  \n",
              "0   Rapid assembly of SARS-CoV-2 genomes reveals a...  \n",
              "1           To TnpB or not TnpB? Cas12 is the answer.  \n",
              "2   Precise transcript targeting by CRISPR-Csm com...  \n",
              "3   CRISPR technology: A decade of genome editing ...  \n",
              "4   Genome editing in plants using the compact edi...  \n",
              "..                                                ...  \n",
              "17  Histone deacetylase inhibitor-based chromatin ...  \n",
              "18  Design, Synthesis, Molecular Modeling, and Bio...  \n",
              "19  Scaffold dependent histone deacetylase (HDAC) ...  \n",
              "20  Divergent JNK Phosphorylation of HDAC3 in Trip...  \n",
              "21  Design, Synthesis, and Biological Evaluation o...  \n",
              "\n",
              "[3448 rows x 8 columns]"
            ],
            "text/html": [
              "\n",
              "  <div id=\"df-8394917b-c9ef-4803-a07c-eb0ea81d9ea6\">\n",
              "    <div class=\"colab-df-container\">\n",
              "      <div>\n",
              "<style scoped>\n",
              "    .dataframe tbody tr th:only-of-type {\n",
              "        vertical-align: middle;\n",
              "    }\n",
              "\n",
              "    .dataframe tbody tr th {\n",
              "        vertical-align: top;\n",
              "    }\n",
              "\n",
              "    .dataframe thead th {\n",
              "        text-align: right;\n",
              "    }\n",
              "</style>\n",
              "<table border=\"1\" class=\"dataframe\">\n",
              "  <thead>\n",
              "    <tr style=\"text-align: right;\">\n",
              "      <th></th>\n",
              "      <th>Unnamed: 0</th>\n",
              "      <th>Paper ID</th>\n",
              "      <th>Authors</th>\n",
              "      <th>Abstract</th>\n",
              "      <th>Author's Order</th>\n",
              "      <th>Number of Authors</th>\n",
              "      <th>Keywords</th>\n",
              "      <th>Title</th>\n",
              "    </tr>\n",
              "  </thead>\n",
              "  <tbody>\n",
              "    <tr>\n",
              "      <th>0</th>\n",
              "      <td>0</td>\n",
              "      <td>36798416</td>\n",
              "      <td>['Taha TY', 'Chen IP', 'Hayashi JM', 'Tabata T...</td>\n",
              "      <td>Although the SARS-CoV-2 Omicron variant (BA.1)...</td>\n",
              "      <td>18</td>\n",
              "      <td>19</td>\n",
              "      <td>NaN</td>\n",
              "      <td>Rapid assembly of SARS-CoV-2 genomes reveals a...</td>\n",
              "    </tr>\n",
              "    <tr>\n",
              "      <th>1</th>\n",
              "      <td>1</td>\n",
              "      <td>36797405</td>\n",
              "      <td>['Yoon PH', 'Adler BA', 'Doudna JA']</td>\n",
              "      <td>NaN</td>\n",
              "      <td>3</td>\n",
              "      <td>3</td>\n",
              "      <td>NaN</td>\n",
              "      <td>To TnpB or not TnpB? Cas12 is the answer.</td>\n",
              "    </tr>\n",
              "    <tr>\n",
              "      <th>2</th>\n",
              "      <td>2</td>\n",
              "      <td>36690762</td>\n",
              "      <td>['Colognori D', 'Trinidad M', 'Doudna JA']</td>\n",
              "      <td>Robust and precise transcript targeting in mam...</td>\n",
              "      <td>3</td>\n",
              "      <td>3</td>\n",
              "      <td>NaN</td>\n",
              "      <td>Precise transcript targeting by CRISPR-Csm com...</td>\n",
              "    </tr>\n",
              "    <tr>\n",
              "      <th>3</th>\n",
              "      <td>3</td>\n",
              "      <td>36656942</td>\n",
              "      <td>['Wang JY', 'Doudna JA']</td>\n",
              "      <td>The advent of clustered regularly interspaced ...</td>\n",
              "      <td>2</td>\n",
              "      <td>2</td>\n",
              "      <td>NaN</td>\n",
              "      <td>CRISPR technology: A decade of genome editing ...</td>\n",
              "    </tr>\n",
              "    <tr>\n",
              "      <th>4</th>\n",
              "      <td>4</td>\n",
              "      <td>36652483</td>\n",
              "      <td>['Li Z', 'Zhong Z', 'Wu Z', 'Pausch P', 'Al-Sh...</td>\n",
              "      <td>Clustered regularly interspaced short palindro...</td>\n",
              "      <td>7</td>\n",
              "      <td>8</td>\n",
              "      <td>['CRISPR-CasΦ', 'CasΦ variants', 'DNA methylat...</td>\n",
              "      <td>Genome editing in plants using the compact edi...</td>\n",
              "    </tr>\n",
              "    <tr>\n",
              "      <th>...</th>\n",
              "      <td>...</td>\n",
              "      <td>...</td>\n",
              "      <td>...</td>\n",
              "      <td>...</td>\n",
              "      <td>...</td>\n",
              "      <td>...</td>\n",
              "      <td>...</td>\n",
              "      <td>...</td>\n",
              "    </tr>\n",
              "    <tr>\n",
              "      <th>17</th>\n",
              "      <td>17</td>\n",
              "      <td>29682593</td>\n",
              "      <td>['Hanigan TW', 'Danes JM', 'Taha TY', 'Frasor ...</td>\n",
              "      <td>Histone deacetylase (HDAC) catalyzes the remov...</td>\n",
              "      <td>3</td>\n",
              "      <td>5</td>\n",
              "      <td>['chromatin immunoprecipitation', 'histone dea...</td>\n",
              "      <td>Histone deacetylase inhibitor-based chromatin ...</td>\n",
              "    </tr>\n",
              "    <tr>\n",
              "      <th>18</th>\n",
              "      <td>18</td>\n",
              "      <td>29080240</td>\n",
              "      <td>['Abdelkarim H', 'Neelarapu R', 'Madriaga A', ...</td>\n",
              "      <td>Histone deacetylases (HDACs) are promising dru...</td>\n",
              "      <td>8</td>\n",
              "      <td>11</td>\n",
              "      <td>['amines', 'antitumor agents', 'epigenetics', ...</td>\n",
              "      <td>Design, Synthesis, Molecular Modeling, and Bio...</td>\n",
              "    </tr>\n",
              "    <tr>\n",
              "      <th>19</th>\n",
              "      <td>19</td>\n",
              "      <td>29045501</td>\n",
              "      <td>['Hanigan TW', 'Taha TY', 'Aboukhatwa SM', 'Fr...</td>\n",
              "      <td>The mechanism of action of histone deacetylase...</td>\n",
              "      <td>2</td>\n",
              "      <td>5</td>\n",
              "      <td>NaN</td>\n",
              "      <td>Scaffold dependent histone deacetylase (HDAC) ...</td>\n",
              "    </tr>\n",
              "    <tr>\n",
              "      <th>20</th>\n",
              "      <td>20</td>\n",
              "      <td>28943357</td>\n",
              "      <td>['Hanigan TW', 'Aboukhatwa SM', 'Taha TY', 'Fr...</td>\n",
              "      <td>Histone deacetylase (HDAC) catalytic activity ...</td>\n",
              "      <td>3</td>\n",
              "      <td>5</td>\n",
              "      <td>['breast cancer', 'c-Jun N-terminal kinase', '...</td>\n",
              "      <td>Divergent JNK Phosphorylation of HDAC3 in Trip...</td>\n",
              "    </tr>\n",
              "    <tr>\n",
              "      <th>21</th>\n",
              "      <td>21</td>\n",
              "      <td>28835796</td>\n",
              "      <td>['Taha TY', 'Aboukhatwa SM', 'Knopp RC', 'Ikeg...</td>\n",
              "      <td>Histone deacetylase 8 (HDAC8) is a promising d...</td>\n",
              "      <td>1</td>\n",
              "      <td>11</td>\n",
              "      <td>['HDAC8', 'Histone deacetylase', 'hydroxamate'...</td>\n",
              "      <td>Design, Synthesis, and Biological Evaluation o...</td>\n",
              "    </tr>\n",
              "  </tbody>\n",
              "</table>\n",
              "<p>3448 rows × 8 columns</p>\n",
              "</div>\n",
              "      <button class=\"colab-df-convert\" onclick=\"convertToInteractive('df-8394917b-c9ef-4803-a07c-eb0ea81d9ea6')\"\n",
              "              title=\"Convert this dataframe to an interactive table.\"\n",
              "              style=\"display:none;\">\n",
              "        \n",
              "  <svg xmlns=\"http://www.w3.org/2000/svg\" height=\"24px\"viewBox=\"0 0 24 24\"\n",
              "       width=\"24px\">\n",
              "    <path d=\"M0 0h24v24H0V0z\" fill=\"none\"/>\n",
              "    <path d=\"M18.56 5.44l.94 2.06.94-2.06 2.06-.94-2.06-.94-.94-2.06-.94 2.06-2.06.94zm-11 1L8.5 8.5l.94-2.06 2.06-.94-2.06-.94L8.5 2.5l-.94 2.06-2.06.94zm10 10l.94 2.06.94-2.06 2.06-.94-2.06-.94-.94-2.06-.94 2.06-2.06.94z\"/><path d=\"M17.41 7.96l-1.37-1.37c-.4-.4-.92-.59-1.43-.59-.52 0-1.04.2-1.43.59L10.3 9.45l-7.72 7.72c-.78.78-.78 2.05 0 2.83L4 21.41c.39.39.9.59 1.41.59.51 0 1.02-.2 1.41-.59l7.78-7.78 2.81-2.81c.8-.78.8-2.07 0-2.86zM5.41 20L4 18.59l7.72-7.72 1.47 1.35L5.41 20z\"/>\n",
              "  </svg>\n",
              "      </button>\n",
              "      \n",
              "  <style>\n",
              "    .colab-df-container {\n",
              "      display:flex;\n",
              "      flex-wrap:wrap;\n",
              "      gap: 12px;\n",
              "    }\n",
              "\n",
              "    .colab-df-convert {\n",
              "      background-color: #E8F0FE;\n",
              "      border: none;\n",
              "      border-radius: 50%;\n",
              "      cursor: pointer;\n",
              "      display: none;\n",
              "      fill: #1967D2;\n",
              "      height: 32px;\n",
              "      padding: 0 0 0 0;\n",
              "      width: 32px;\n",
              "    }\n",
              "\n",
              "    .colab-df-convert:hover {\n",
              "      background-color: #E2EBFA;\n",
              "      box-shadow: 0px 1px 2px rgba(60, 64, 67, 0.3), 0px 1px 3px 1px rgba(60, 64, 67, 0.15);\n",
              "      fill: #174EA6;\n",
              "    }\n",
              "\n",
              "    [theme=dark] .colab-df-convert {\n",
              "      background-color: #3B4455;\n",
              "      fill: #D2E3FC;\n",
              "    }\n",
              "\n",
              "    [theme=dark] .colab-df-convert:hover {\n",
              "      background-color: #434B5C;\n",
              "      box-shadow: 0px 1px 3px 1px rgba(0, 0, 0, 0.15);\n",
              "      filter: drop-shadow(0px 1px 2px rgba(0, 0, 0, 0.3));\n",
              "      fill: #FFFFFF;\n",
              "    }\n",
              "  </style>\n",
              "\n",
              "      <script>\n",
              "        const buttonEl =\n",
              "          document.querySelector('#df-8394917b-c9ef-4803-a07c-eb0ea81d9ea6 button.colab-df-convert');\n",
              "        buttonEl.style.display =\n",
              "          google.colab.kernel.accessAllowed ? 'block' : 'none';\n",
              "\n",
              "        async function convertToInteractive(key) {\n",
              "          const element = document.querySelector('#df-8394917b-c9ef-4803-a07c-eb0ea81d9ea6');\n",
              "          const dataTable =\n",
              "            await google.colab.kernel.invokeFunction('convertToInteractive',\n",
              "                                                     [key], {});\n",
              "          if (!dataTable) return;\n",
              "\n",
              "          const docLinkHtml = 'Like what you see? Visit the ' +\n",
              "            '<a target=\"_blank\" href=https://colab.research.google.com/notebooks/data_table.ipynb>data table notebook</a>'\n",
              "            + ' to learn more about interactive tables.';\n",
              "          element.innerHTML = '';\n",
              "          dataTable['output_type'] = 'display_data';\n",
              "          await google.colab.output.renderOutput(dataTable, element);\n",
              "          const docLink = document.createElement('div');\n",
              "          docLink.innerHTML = docLinkHtml;\n",
              "          element.appendChild(docLink);\n",
              "        }\n",
              "      </script>\n",
              "    </div>\n",
              "  </div>\n",
              "  "
            ]
          },
          "metadata": {},
          "execution_count": 27
        }
      ]
    },
    {
      "cell_type": "code",
      "source": [],
      "metadata": {
        "id": "fXEKWTOmpk-t"
      },
      "execution_count": null,
      "outputs": []
    },
    {
      "cell_type": "code",
      "source": [],
      "metadata": {
        "id": "EkK9QLOCqtS7"
      },
      "execution_count": null,
      "outputs": []
    },
    {
      "cell_type": "markdown",
      "source": [],
      "metadata": {
        "id": "N6Dw5_-47GTU"
      }
    }
  ]
}
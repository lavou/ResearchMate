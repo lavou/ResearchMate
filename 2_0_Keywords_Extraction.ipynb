{
  "nbformat": 4,
  "nbformat_minor": 0,
  "metadata": {
    "colab": {
      "provenance": [],
      "collapsed_sections": [
        "ZjzZTlPA-QKh",
        "8ONI_FzVzs4a",
        "KILSUwlU5JyD",
        "tvnCJAiA1G0b"
      ],
      "authorship_tag": "ABX9TyPfWdl93ZdccCDoN9p3FV2V",
      "include_colab_link": true
    },
    "kernelspec": {
      "name": "python3",
      "display_name": "Python 3"
    },
    "language_info": {
      "name": "python"
    }
  },
  "cells": [
    {
      "cell_type": "markdown",
      "metadata": {
        "id": "view-in-github",
        "colab_type": "text"
      },
      "source": [
        "<a href=\"https://colab.research.google.com/github/lavou/ResearchMate/blob/main/2_0_Keywords_Extraction.ipynb\" target=\"_parent\"><img src=\"https://colab.research.google.com/assets/colab-badge.svg\" alt=\"Open In Colab\"/></a>"
      ]
    },
    {
      "cell_type": "markdown",
      "source": [
        "#In this notebook we process the authors' dataframes created and then we use GTP-3 API to extarct the topic of each paper in the form of keywords.\n",
        "\n",
        "\n"
      ],
      "metadata": {
        "id": "M6CXvbz49TH2"
      }
    },
    {
      "cell_type": "markdown",
      "source": [
        "######0. Mount, set path and load packages"
      ],
      "metadata": {
        "id": "ZjzZTlPA-QKh"
      }
    },
    {
      "cell_type": "code",
      "source": [
        "import os\n",
        "import pandas as pd\n",
        "import openai\n",
        "import re\n",
        "import time"
      ],
      "metadata": {
        "id": "t_Ug1yqV8LDp"
      },
      "execution_count": null,
      "outputs": []
    },
    {
      "cell_type": "code",
      "execution_count": null,
      "metadata": {
        "colab": {
          "base_uri": "https://localhost:8080/"
        },
        "id": "NYHTWqkmzLot",
        "outputId": "6815a654-dc3f-4146-cfaa-be0db3e3e4f7"
      },
      "outputs": [
        {
          "output_type": "stream",
          "name": "stdout",
          "text": [
            "Mounted at /content/drive\n"
          ]
        }
      ],
      "source": [
        "from google.colab import drive\n",
        "drive.mount('/content/drive')"
      ]
    },
    {
      "cell_type": "code",
      "source": [
        "# set the path to the directory containing the CSV file\n",
        "dir_path = '/content/drive/MyDrive/Pubmed_project/Dataframes'\n",
        "\n",
        "# construct the file path using os.path.join()\n",
        "file_path = os.path.join(dir_path, '100_Authors_df_with_Doudna.csv')\n",
        "\n",
        "# load the data from the CSV file into a dataframe\n",
        "df = pd.read_csv(file_path)\n",
        "\n",
        "# view the DataFrame\n",
        "print(df.head())"
      ],
      "metadata": {
        "colab": {
          "base_uri": "https://localhost:8080/"
        },
        "id": "ugsWnxbXzrhc",
        "outputId": "2f2974a5-3cae-4917-fbd4-53a383986b4d"
      },
      "execution_count": null,
      "outputs": [
        {
          "output_type": "stream",
          "name": "stdout",
          "text": [
            "   Unnamed: 0  Paper ID                                            Authors  \\\n",
            "0           0  36798416  ['Taha TY', 'Chen IP', 'Hayashi JM', 'Tabata T...   \n",
            "1           1  36797405               ['Yoon PH', 'Adler BA', 'Doudna JA']   \n",
            "2           2  36690762         ['Colognori D', 'Trinidad M', 'Doudna JA']   \n",
            "3           3  36656942                           ['Wang JY', 'Doudna JA']   \n",
            "4           4  36652483  ['Li Z', 'Zhong Z', 'Wu Z', 'Pausch P', 'Al-Sh...   \n",
            "\n",
            "                                            Abstract  Author's Order  \\\n",
            "0  Although the SARS-CoV-2 Omicron variant (BA.1)...              18   \n",
            "1                                                NaN               3   \n",
            "2  Robust and precise transcript targeting in mam...               3   \n",
            "3  The advent of clustered regularly interspaced ...               2   \n",
            "4  Clustered regularly interspaced short palindro...               7   \n",
            "\n",
            "   Number of Authors                                           Keywords  \\\n",
            "0                 19                                                NaN   \n",
            "1                  3                                                NaN   \n",
            "2                  3                                                NaN   \n",
            "3                  2                                                NaN   \n",
            "4                  8  ['CRISPR-CasΦ', 'CasΦ variants', 'DNA methylat...   \n",
            "\n",
            "                                               Title  \n",
            "0  Rapid assembly of SARS-CoV-2 genomes reveals a...  \n",
            "1          To TnpB or not TnpB? Cas12 is the answer.  \n",
            "2  Precise transcript targeting by CRISPR-Csm com...  \n",
            "3  CRISPR technology: A decade of genome editing ...  \n",
            "4  Genome editing in plants using the compact edi...  \n"
          ]
        }
      ]
    },
    {
      "cell_type": "markdown",
      "source": [
        "######1. Preprocessing and cleaning \n",
        "---\n",
        "\n",
        "\n"
      ],
      "metadata": {
        "id": "8ONI_FzVzs4a"
      }
    },
    {
      "cell_type": "code",
      "source": [
        "print(df.shape)"
      ],
      "metadata": {
        "colab": {
          "base_uri": "https://localhost:8080/"
        },
        "id": "25jL9oK6zrkA",
        "outputId": "1a778a4c-a756-4eac-9ca9-85f57c3d9228"
      },
      "execution_count": null,
      "outputs": [
        {
          "output_type": "stream",
          "name": "stdout",
          "text": [
            "(3448, 8)\n"
          ]
        }
      ]
    },
    {
      "cell_type": "code",
      "source": [
        "# Drop rows where author's order is -1\n",
        "df = df[df[\"Author's Order\"] != -1]"
      ],
      "metadata": {
        "id": "7x8YcUzl0oBX"
      },
      "execution_count": null,
      "outputs": []
    },
    {
      "cell_type": "code",
      "source": [
        "len(df)"
      ],
      "metadata": {
        "colab": {
          "base_uri": "https://localhost:8080/"
        },
        "id": "TwYT7XZJ0w0n",
        "outputId": "29753e63-0223-4194-c270-1ff2a1ac0c23"
      },
      "execution_count": null,
      "outputs": [
        {
          "output_type": "execute_result",
          "data": {
            "text/plain": [
              "2999"
            ]
          },
          "metadata": {},
          "execution_count": 6
        }
      ]
    },
    {
      "cell_type": "code",
      "source": [
        "# Check for missing stuff\n",
        "print(df['Title'].isna().sum())\n",
        "#df['Abstract'].isna().sum()\n",
        "#df['Keywords'].isna().sum()\n"
      ],
      "metadata": {
        "colab": {
          "base_uri": "https://localhost:8080/"
        },
        "id": "IIK0ZK6R0xwM",
        "outputId": "e66a52bb-3f84-4b43-b048-f245885678dd"
      },
      "execution_count": null,
      "outputs": [
        {
          "output_type": "stream",
          "name": "stdout",
          "text": [
            "4\n"
          ]
        }
      ]
    },
    {
      "cell_type": "code",
      "source": [
        "missing_title = df[df['Title'].isna()]\n",
        "print(missing_title)"
      ],
      "metadata": {
        "colab": {
          "base_uri": "https://localhost:8080/"
        },
        "id": "2Bv-PabB1Ry4",
        "outputId": "cfe84074-736b-4f55-9e01-2ef5a735183c"
      },
      "execution_count": null,
      "outputs": [
        {
          "output_type": "stream",
          "name": "stdout",
          "text": [
            "      Unnamed: 0  Paper ID                                            Authors  \\\n",
            "1512           2  36745728  ['Fulop NJ', 'Ramsay AIG', 'Vindrola-Padros C'...   \n",
            "2563           2  28846217         ['Khalid MM', 'Galuska MA', 'Hamilton RJ']   \n",
            "2565           4  30725648  ['Ershad M', 'Meredith A', 'Shah N', 'Khalid MM']   \n",
            "2567           6  28613681                          ['Khalid MM', 'Waseem M']   \n",
            "\n",
            "     Abstract  Author's Order  Number of Authors Keywords Title  \n",
            "1512      NaN              15                 26      NaN   NaN  \n",
            "2563      NaN               1                  3      NaN   NaN  \n",
            "2565      NaN               4                  4      NaN   NaN  \n",
            "2567      NaN               1                  2      NaN   NaN  \n"
          ]
        }
      ]
    },
    {
      "cell_type": "code",
      "source": [
        "# It seems there are 4 papers who don't even contain titles, drop these.\n",
        "# When the title is null there is no info about the paper, apart from the ID and the authors\n",
        "df.dropna(subset=['Title'], inplace=True)"
      ],
      "metadata": {
        "id": "w4VMLExo1R19"
      },
      "execution_count": null,
      "outputs": []
    },
    {
      "cell_type": "code",
      "source": [
        "len(df)"
      ],
      "metadata": {
        "colab": {
          "base_uri": "https://localhost:8080/"
        },
        "id": "XSLoF4ny2mhx",
        "outputId": "e240354a-5980-4dab-a107-545ce0892049"
      },
      "execution_count": null,
      "outputs": [
        {
          "output_type": "execute_result",
          "data": {
            "text/plain": [
              "2995"
            ]
          },
          "metadata": {},
          "execution_count": 10
        }
      ]
    },
    {
      "cell_type": "code",
      "source": [
        "df.head()"
      ],
      "metadata": {
        "id": "0q_afLdg2mkb"
      },
      "execution_count": null,
      "outputs": []
    },
    {
      "cell_type": "code",
      "source": [
        "cols = df.columns\n",
        "print(cols)"
      ],
      "metadata": {
        "colab": {
          "base_uri": "https://localhost:8080/"
        },
        "id": "IoRd-hmA2mnU",
        "outputId": "28d80781-7c4e-4879-ed91-672c333ba7e2"
      },
      "execution_count": null,
      "outputs": [
        {
          "output_type": "stream",
          "name": "stdout",
          "text": [
            "Index(['Unnamed: 0', 'Paper ID', 'Authors', 'Abstract', 'Author's Order',\n",
            "       'Number of Authors', 'Keywords', 'Title'],\n",
            "      dtype='object')\n"
          ]
        }
      ]
    },
    {
      "cell_type": "code",
      "source": [
        "# drop the Unnamed: 0 column\n",
        "df.drop('Unnamed: 0', axis=1, inplace=True)"
      ],
      "metadata": {
        "id": "maBpgaKc1R68"
      },
      "execution_count": null,
      "outputs": []
    },
    {
      "cell_type": "code",
      "source": [
        "print(df)"
      ],
      "metadata": {
        "colab": {
          "base_uri": "https://localhost:8080/"
        },
        "id": "ARvvwBqg3J2A",
        "outputId": "a6f2e17d-3e63-4d00-b5a6-363f9cce2611"
      },
      "execution_count": null,
      "outputs": [
        {
          "output_type": "stream",
          "name": "stdout",
          "text": [
            "      Paper ID                                            Authors  \\\n",
            "0     36798416  ['Taha TY', 'Chen IP', 'Hayashi JM', 'Tabata T...   \n",
            "1     36797405               ['Yoon PH', 'Adler BA', 'Doudna JA']   \n",
            "2     36690762         ['Colognori D', 'Trinidad M', 'Doudna JA']   \n",
            "3     36656942                           ['Wang JY', 'Doudna JA']   \n",
            "4     36652483  ['Li Z', 'Zhong Z', 'Wu Z', 'Pausch P', 'Al-Sh...   \n",
            "...        ...                                                ...   \n",
            "3443  29682593  ['Hanigan TW', 'Danes JM', 'Taha TY', 'Frasor ...   \n",
            "3444  29080240  ['Abdelkarim H', 'Neelarapu R', 'Madriaga A', ...   \n",
            "3445  29045501  ['Hanigan TW', 'Taha TY', 'Aboukhatwa SM', 'Fr...   \n",
            "3446  28943357  ['Hanigan TW', 'Aboukhatwa SM', 'Taha TY', 'Fr...   \n",
            "3447  28835796  ['Taha TY', 'Aboukhatwa SM', 'Knopp RC', 'Ikeg...   \n",
            "\n",
            "                                               Abstract  Author's Order  \\\n",
            "0     Although the SARS-CoV-2 Omicron variant (BA.1)...              18   \n",
            "1                                                   NaN               3   \n",
            "2     Robust and precise transcript targeting in mam...               3   \n",
            "3     The advent of clustered regularly interspaced ...               2   \n",
            "4     Clustered regularly interspaced short palindro...               7   \n",
            "...                                                 ...             ...   \n",
            "3443  Histone deacetylase (HDAC) catalyzes the remov...               3   \n",
            "3444  Histone deacetylases (HDACs) are promising dru...               8   \n",
            "3445  The mechanism of action of histone deacetylase...               2   \n",
            "3446  Histone deacetylase (HDAC) catalytic activity ...               3   \n",
            "3447  Histone deacetylase 8 (HDAC8) is a promising d...               1   \n",
            "\n",
            "      Number of Authors                                           Keywords  \\\n",
            "0                    19                                                NaN   \n",
            "1                     3                                                NaN   \n",
            "2                     3                                                NaN   \n",
            "3                     2                                                NaN   \n",
            "4                     8  ['CRISPR-CasΦ', 'CasΦ variants', 'DNA methylat...   \n",
            "...                 ...                                                ...   \n",
            "3443                  5  ['chromatin immunoprecipitation', 'histone dea...   \n",
            "3444                 11  ['amines', 'antitumor agents', 'epigenetics', ...   \n",
            "3445                  5                                                NaN   \n",
            "3446                  5  ['breast cancer', 'c-Jun N-terminal kinase', '...   \n",
            "3447                 11  ['HDAC8', 'Histone deacetylase', 'hydroxamate'...   \n",
            "\n",
            "                                                  Title  \n",
            "0     Rapid assembly of SARS-CoV-2 genomes reveals a...  \n",
            "1             To TnpB or not TnpB? Cas12 is the answer.  \n",
            "2     Precise transcript targeting by CRISPR-Csm com...  \n",
            "3     CRISPR technology: A decade of genome editing ...  \n",
            "4     Genome editing in plants using the compact edi...  \n",
            "...                                                 ...  \n",
            "3443  Histone deacetylase inhibitor-based chromatin ...  \n",
            "3444  Design, Synthesis, Molecular Modeling, and Bio...  \n",
            "3445  Scaffold dependent histone deacetylase (HDAC) ...  \n",
            "3446  Divergent JNK Phosphorylation of HDAC3 in Trip...  \n",
            "3447  Design, Synthesis, and Biological Evaluation o...  \n",
            "\n",
            "[2995 rows x 7 columns]\n"
          ]
        }
      ]
    },
    {
      "cell_type": "code",
      "source": [
        "# Save the cleaned df\n",
        "output_file_path = os.path.join(dir_path, 'cleaned_df_no_keywords.csv')\n",
        "df.to_csv(output_file_path, index=False)"
      ],
      "metadata": {
        "id": "sUju5eFB3J44"
      },
      "execution_count": null,
      "outputs": []
    },
    {
      "cell_type": "markdown",
      "source": [
        "######2. Keywords extarction - GPT\n",
        "---\n",
        "\n",
        "\n",
        "\n"
      ],
      "metadata": {
        "id": "KILSUwlU5JyD"
      }
    },
    {
      "cell_type": "code",
      "source": [
        "#percentage of rows without any keywords\n",
        "num_no_keywords = df['Keywords'].isna().sum()\n",
        "num_total = len(df)\n",
        "pct_no_keywords = num_no_keywords / num_total * 100\n",
        "\n",
        "# print the percentage of rows without any keywords\n",
        "print(f\"{pct_no_keywords:.2f}% of rows do not have any keywords.\")"
      ],
      "metadata": {
        "colab": {
          "base_uri": "https://localhost:8080/"
        },
        "id": "arH3MQ5D1R-k",
        "outputId": "8fa67169-73d0-4687-f2e4-ce53d3b69b03"
      },
      "execution_count": null,
      "outputs": [
        {
          "output_type": "stream",
          "name": "stdout",
          "text": [
            "77.20% of rows do not have any keywords.\n"
          ]
        }
      ]
    },
    {
      "cell_type": "markdown",
      "source": [
        "*GPT-3 prompt* "
      ],
      "metadata": {
        "id": "-DPql0sa5XbY"
      }
    },
    {
      "cell_type": "code",
      "source": [
        "#os.environ['OPENAI_API_KEY'] = \"your key\""
      ],
      "metadata": {
        "id": "Ct9uMAu65Wmf"
      },
      "execution_count": null,
      "outputs": []
    },
    {
      "cell_type": "code",
      "source": [
        "#openai.api_key = \"insert key here\""
      ],
      "metadata": {
        "id": "oeHplSoRBxWD"
      },
      "execution_count": null,
      "outputs": []
    },
    {
      "cell_type": "code",
      "source": [
        "# Write function to extract (the most important) keywords, from abstarct if available, otherwise from title\n",
        "\n",
        "def generate_keywords(text, num_keywords=3):\n",
        "    prompt = f\"Given the following biomedical/medical text, extract {num_keywords} important keywords capturing the main topics of the text:\\n\\n{text}\\n\\nKeywords:\"\n",
        "    response = openai.Completion.create(\n",
        "        engine=\"text-davinci-002\",\n",
        "        prompt=prompt,\n",
        "        max_tokens=50,\n",
        "        n=1,\n",
        "        stop=None,\n",
        "        temperature=0.7,\n",
        "    )\n",
        "\n",
        "    keywords = response.choices[0].text.strip().split(', ')\n",
        "    return keywords[:num_keywords]\n"
      ],
      "metadata": {
        "id": "uQ_8mOBF5VEd"
      },
      "execution_count": null,
      "outputs": []
    },
    {
      "cell_type": "code",
      "source": [
        "# now iterrate over the df and generate keywords in the rows missing\n",
        "\n",
        "def generate_keywords_for_missing_rows(df, delay=1):\n",
        "    for index, row in df.iterrows():\n",
        "        if pd.isna(row['Keywords']):\n",
        "            text = row['Abstract'] if pd.notna(row['Abstract']) else row['Title']\n",
        "            keywords = generate_keywords(text)\n",
        "            df.at[index, 'Keywords'] = ', '.join(keywords)\n",
        "            print(f\"Generated keywords for index {index}: {', '.join(keywords)}\")  # Print the generated keywords for debugging\n",
        "            time.sleep(delay)  # Add a delay between API calls\n",
        "    return df"
      ],
      "metadata": {
        "id": "vI3kqZ4S9wD0"
      },
      "execution_count": null,
      "outputs": []
    },
    {
      "cell_type": "code",
      "source": [
        "df_with_keywords = generate_keywords_for_missing_rows(df)"
      ],
      "metadata": {
        "id": "PP7Zkz7R9wHK"
      },
      "execution_count": null,
      "outputs": []
    },
    {
      "cell_type": "code",
      "source": [
        "# save it\n",
        "df_with_keywords.to_csv(\"/content/drive/MyDrive/Pubmed_project/df_keywords_GPT3.csv\", index=False)"
      ],
      "metadata": {
        "id": "pnyJrJ_q9wOA"
      },
      "execution_count": null,
      "outputs": []
    },
    {
      "cell_type": "code",
      "source": [
        "len(df_with_keywords)"
      ],
      "metadata": {
        "colab": {
          "base_uri": "https://localhost:8080/"
        },
        "id": "K7yc-RHi5VHj",
        "outputId": "49ee65d0-7f93-4391-96f9-8aecdf8d117d"
      },
      "execution_count": null,
      "outputs": [
        {
          "output_type": "execute_result",
          "data": {
            "text/plain": [
              "2995"
            ]
          },
          "metadata": {},
          "execution_count": 54
        }
      ]
    },
    {
      "cell_type": "code",
      "source": [
        "len(df)"
      ],
      "metadata": {
        "colab": {
          "base_uri": "https://localhost:8080/"
        },
        "id": "5N0Ap0ZQ5VKu",
        "outputId": "023cb4c7-2a15-4cdd-92d7-402e84990fe6"
      },
      "execution_count": null,
      "outputs": [
        {
          "output_type": "execute_result",
          "data": {
            "text/plain": [
              "2995"
            ]
          },
          "metadata": {},
          "execution_count": 55
        }
      ]
    },
    {
      "cell_type": "markdown",
      "source": [
        "###### extra: Add an single author column - Run this only if you want to run GPT-3 from scratch. Otherwise no need, the output is already saved as a csv in the 'Dataframes' dir.\n",
        "---\n",
        "\n",
        "\n"
      ],
      "metadata": {
        "id": "tvnCJAiA1G0b"
      }
    },
    {
      "cell_type": "code",
      "source": [
        "# Define a fuction to extract single author's name from the list of authors based on the order of authorship. Create a new column.\n",
        "\n",
        "def get_author_name(authors, order):\n",
        "    try:\n",
        "        if isinstance(authors, list):\n",
        "            return authors[order - 1] if order <= len(authors) else None\n",
        "        else:\n",
        "            author_list = authors.strip(\"[]\").replace(\"'\", \"\").split(\", \")\n",
        "            return author_list[order - 1] if order <= len(author_list) else None\n",
        "    except (ValueError, IndexError):\n",
        "        return None\n",
        "\n",
        "# Create new column 'Author's Name' with extracted author names\n",
        "df_with_keywords[\"Author's Name\"] = df_with_keywords.apply(lambda x: get_author_name(x['Authors'], x[\"Author's Order\"]), axis=1)"
      ],
      "metadata": {
        "id": "jxj8PmwFmyP_"
      },
      "execution_count": null,
      "outputs": []
    },
    {
      "cell_type": "code",
      "source": [
        "print(df_with_keywords[\"Author's Name\"])"
      ],
      "metadata": {
        "colab": {
          "base_uri": "https://localhost:8080/"
        },
        "id": "2FrcQg44UQUE",
        "outputId": "82cd6141-5c1a-4479-95bf-fa5ca2ed0e04"
      },
      "execution_count": null,
      "outputs": [
        {
          "output_type": "stream",
          "name": "stdout",
          "text": [
            "0       Doudna JA\n",
            "1       Doudna JA\n",
            "2       Doudna JA\n",
            "3       Doudna JA\n",
            "4       Doudna JA\n",
            "          ...    \n",
            "3443      Taha TY\n",
            "3444      Taha TY\n",
            "3445      Taha TY\n",
            "3446      Taha TY\n",
            "3447      Taha TY\n",
            "Name: Author's Name, Length: 2995, dtype: object\n"
          ]
        }
      ]
    },
    {
      "cell_type": "code",
      "source": [
        "len(df_with_keywords)"
      ],
      "metadata": {
        "colab": {
          "base_uri": "https://localhost:8080/"
        },
        "id": "ncWMqg4tUTDN",
        "outputId": "3fd89c24-4632-457b-a48b-5c913e8ccca3"
      },
      "execution_count": null,
      "outputs": [
        {
          "output_type": "execute_result",
          "data": {
            "text/plain": [
              "2995"
            ]
          },
          "metadata": {},
          "execution_count": 60
        }
      ]
    },
    {
      "cell_type": "code",
      "source": [
        "df_with_keywords.head(10)"
      ],
      "metadata": {
        "id": "X5YI7u-vUgUY"
      },
      "execution_count": null,
      "outputs": []
    },
    {
      "cell_type": "code",
      "source": [
        "# save it\n",
        "df_with_keywords.to_csv(\"/content/drive/MyDrive/Pubmed_project/df_keywords_GPT3_&Authors.csv\", index=False)"
      ],
      "metadata": {
        "id": "mIwwV-S5VFnc"
      },
      "execution_count": null,
      "outputs": []
    }
  ]
}
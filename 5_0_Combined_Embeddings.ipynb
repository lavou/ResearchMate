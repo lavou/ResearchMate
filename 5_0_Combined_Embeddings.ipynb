{
  "nbformat": 4,
  "nbformat_minor": 0,
  "metadata": {
    "colab": {
      "provenance": [],
      "authorship_tag": "ABX9TyMlcrYuf5a+yo3gE+6QADLe",
      "include_colab_link": true
    },
    "kernelspec": {
      "name": "python3",
      "display_name": "Python 3"
    },
    "language_info": {
      "name": "python"
    }
  },
  "cells": [
    {
      "cell_type": "markdown",
      "metadata": {
        "id": "view-in-github",
        "colab_type": "text"
      },
      "source": [
        "<a href=\"https://colab.research.google.com/github/lavou/ResearchMate/blob/main/5_0_Combined_Embeddings.ipynb\" target=\"_parent\"><img src=\"https://colab.research.google.com/assets/colab-badge.svg\" alt=\"Open In Colab\"/></a>"
      ]
    },
    {
      "cell_type": "markdown",
      "source": [
        "# In this notebook we combine the word and graph embeddings\n",
        "\n",
        "\n"
      ],
      "metadata": {
        "id": "BX-KeAbi-zjV"
      }
    },
    {
      "cell_type": "code",
      "execution_count": null,
      "metadata": {
        "colab": {
          "base_uri": "https://localhost:8080/"
        },
        "id": "nfKoNIxK-ixp",
        "outputId": "739e7db7-00b0-4843-f01a-686e5a06f1aa"
      },
      "outputs": [
        {
          "output_type": "stream",
          "name": "stdout",
          "text": [
            "Mounted at /content/drive\n"
          ]
        }
      ],
      "source": [
        "from google.colab import drive\n",
        "drive.mount('/content/drive')"
      ]
    },
    {
      "cell_type": "code",
      "source": [
        "import os\n",
        "import pandas as pd\n",
        "import numpy as np"
      ],
      "metadata": {
        "id": "L-XZP2zA-miD"
      },
      "execution_count": null,
      "outputs": []
    },
    {
      "cell_type": "code",
      "source": [
        "dir_path = '/content/drive/MyDrive/Pubmed_project/Dataframes'"
      ],
      "metadata": {
        "id": "_s9jx_kZA8yq"
      },
      "execution_count": null,
      "outputs": []
    },
    {
      "cell_type": "code",
      "source": [
        "#word_df = pd.read_csv('/content/drive/MyDrive/Pubmed_project/Dataframes/author_word_embeddings.csv')\n",
        "word_df = pd.read_pickle('/content/drive/My Drive/Pubmed_project/Dataframes/pickle_author_word_embeddings.pkl')\n",
        "node_df = pd.read_csv('/content/drive/MyDrive/Pubmed_project/Dataframes/Last_node2vec.csv')"
      ],
      "metadata": {
        "id": "XFH9ro1tBBBP"
      },
      "execution_count": null,
      "outputs": []
    },
    {
      "cell_type": "code",
      "source": [
        "word_df.shape"
      ],
      "metadata": {
        "colab": {
          "base_uri": "https://localhost:8080/"
        },
        "id": "UYgavNdFBkQJ",
        "outputId": "cf60f428-1f67-4054-bd72-af38a4244c5a"
      },
      "execution_count": null,
      "outputs": [
        {
          "output_type": "execute_result",
          "data": {
            "text/plain": [
              "(51, 3)"
            ]
          },
          "metadata": {},
          "execution_count": 27
        }
      ]
    },
    {
      "cell_type": "code",
      "source": [
        "word_df.head()"
      ],
      "metadata": {
        "colab": {
          "base_uri": "https://localhost:8080/",
          "height": 206
        },
        "id": "H-ouJmoCQqUu",
        "outputId": "f335b216-b480-4bfc-a7ff-b5688fa54869"
      },
      "execution_count": null,
      "outputs": [
        {
          "output_type": "execute_result",
          "data": {
            "text/plain": [
              "  Author's Name                                         Embeddings  \\\n",
              "0   Al-Shayeb B  [0.026268455112585798, 0.021484058222995372, 0...   \n",
              "1  Barendregt A  [0.004752037270918663, -0.051108524026858504, ...   \n",
              "2      Batey RT  [0.062249840118056454, 0.034736510684979294, 0...   \n",
              "3      Bhuiya A  [0.07405559116341465, -0.0765404587472176, 0.0...   \n",
              "4       Cate JH  [0.013936735045035675, 0.06166740417856431, 0....   \n",
              "\n",
              "                               Normalized_Embeddings  \n",
              "0  [0.07625947706009535, 0.06236998095975932, 0.1...  \n",
              "1  [0.019399421845954196, -0.20864226456907436, 0...  \n",
              "2  [0.03972427045820143, 0.022166844808073113, 0....  \n",
              "3  [0.028337829182048503, -0.02928867910470235, 0...  \n",
              "4  [0.013357756863408723, 0.05910553574800407, 0....  "
            ],
            "text/html": [
              "\n",
              "  <div id=\"df-1def704c-9482-430b-adb7-5a6b0b881346\">\n",
              "    <div class=\"colab-df-container\">\n",
              "      <div>\n",
              "<style scoped>\n",
              "    .dataframe tbody tr th:only-of-type {\n",
              "        vertical-align: middle;\n",
              "    }\n",
              "\n",
              "    .dataframe tbody tr th {\n",
              "        vertical-align: top;\n",
              "    }\n",
              "\n",
              "    .dataframe thead th {\n",
              "        text-align: right;\n",
              "    }\n",
              "</style>\n",
              "<table border=\"1\" class=\"dataframe\">\n",
              "  <thead>\n",
              "    <tr style=\"text-align: right;\">\n",
              "      <th></th>\n",
              "      <th>Author's Name</th>\n",
              "      <th>Embeddings</th>\n",
              "      <th>Normalized_Embeddings</th>\n",
              "    </tr>\n",
              "  </thead>\n",
              "  <tbody>\n",
              "    <tr>\n",
              "      <th>0</th>\n",
              "      <td>Al-Shayeb B</td>\n",
              "      <td>[0.026268455112585798, 0.021484058222995372, 0...</td>\n",
              "      <td>[0.07625947706009535, 0.06236998095975932, 0.1...</td>\n",
              "    </tr>\n",
              "    <tr>\n",
              "      <th>1</th>\n",
              "      <td>Barendregt A</td>\n",
              "      <td>[0.004752037270918663, -0.051108524026858504, ...</td>\n",
              "      <td>[0.019399421845954196, -0.20864226456907436, 0...</td>\n",
              "    </tr>\n",
              "    <tr>\n",
              "      <th>2</th>\n",
              "      <td>Batey RT</td>\n",
              "      <td>[0.062249840118056454, 0.034736510684979294, 0...</td>\n",
              "      <td>[0.03972427045820143, 0.022166844808073113, 0....</td>\n",
              "    </tr>\n",
              "    <tr>\n",
              "      <th>3</th>\n",
              "      <td>Bhuiya A</td>\n",
              "      <td>[0.07405559116341465, -0.0765404587472176, 0.0...</td>\n",
              "      <td>[0.028337829182048503, -0.02928867910470235, 0...</td>\n",
              "    </tr>\n",
              "    <tr>\n",
              "      <th>4</th>\n",
              "      <td>Cate JH</td>\n",
              "      <td>[0.013936735045035675, 0.06166740417856431, 0....</td>\n",
              "      <td>[0.013357756863408723, 0.05910553574800407, 0....</td>\n",
              "    </tr>\n",
              "  </tbody>\n",
              "</table>\n",
              "</div>\n",
              "      <button class=\"colab-df-convert\" onclick=\"convertToInteractive('df-1def704c-9482-430b-adb7-5a6b0b881346')\"\n",
              "              title=\"Convert this dataframe to an interactive table.\"\n",
              "              style=\"display:none;\">\n",
              "        \n",
              "  <svg xmlns=\"http://www.w3.org/2000/svg\" height=\"24px\"viewBox=\"0 0 24 24\"\n",
              "       width=\"24px\">\n",
              "    <path d=\"M0 0h24v24H0V0z\" fill=\"none\"/>\n",
              "    <path d=\"M18.56 5.44l.94 2.06.94-2.06 2.06-.94-2.06-.94-.94-2.06-.94 2.06-2.06.94zm-11 1L8.5 8.5l.94-2.06 2.06-.94-2.06-.94L8.5 2.5l-.94 2.06-2.06.94zm10 10l.94 2.06.94-2.06 2.06-.94-2.06-.94-.94-2.06-.94 2.06-2.06.94z\"/><path d=\"M17.41 7.96l-1.37-1.37c-.4-.4-.92-.59-1.43-.59-.52 0-1.04.2-1.43.59L10.3 9.45l-7.72 7.72c-.78.78-.78 2.05 0 2.83L4 21.41c.39.39.9.59 1.41.59.51 0 1.02-.2 1.41-.59l7.78-7.78 2.81-2.81c.8-.78.8-2.07 0-2.86zM5.41 20L4 18.59l7.72-7.72 1.47 1.35L5.41 20z\"/>\n",
              "  </svg>\n",
              "      </button>\n",
              "      \n",
              "  <style>\n",
              "    .colab-df-container {\n",
              "      display:flex;\n",
              "      flex-wrap:wrap;\n",
              "      gap: 12px;\n",
              "    }\n",
              "\n",
              "    .colab-df-convert {\n",
              "      background-color: #E8F0FE;\n",
              "      border: none;\n",
              "      border-radius: 50%;\n",
              "      cursor: pointer;\n",
              "      display: none;\n",
              "      fill: #1967D2;\n",
              "      height: 32px;\n",
              "      padding: 0 0 0 0;\n",
              "      width: 32px;\n",
              "    }\n",
              "\n",
              "    .colab-df-convert:hover {\n",
              "      background-color: #E2EBFA;\n",
              "      box-shadow: 0px 1px 2px rgba(60, 64, 67, 0.3), 0px 1px 3px 1px rgba(60, 64, 67, 0.15);\n",
              "      fill: #174EA6;\n",
              "    }\n",
              "\n",
              "    [theme=dark] .colab-df-convert {\n",
              "      background-color: #3B4455;\n",
              "      fill: #D2E3FC;\n",
              "    }\n",
              "\n",
              "    [theme=dark] .colab-df-convert:hover {\n",
              "      background-color: #434B5C;\n",
              "      box-shadow: 0px 1px 3px 1px rgba(0, 0, 0, 0.15);\n",
              "      filter: drop-shadow(0px 1px 2px rgba(0, 0, 0, 0.3));\n",
              "      fill: #FFFFFF;\n",
              "    }\n",
              "  </style>\n",
              "\n",
              "      <script>\n",
              "        const buttonEl =\n",
              "          document.querySelector('#df-1def704c-9482-430b-adb7-5a6b0b881346 button.colab-df-convert');\n",
              "        buttonEl.style.display =\n",
              "          google.colab.kernel.accessAllowed ? 'block' : 'none';\n",
              "\n",
              "        async function convertToInteractive(key) {\n",
              "          const element = document.querySelector('#df-1def704c-9482-430b-adb7-5a6b0b881346');\n",
              "          const dataTable =\n",
              "            await google.colab.kernel.invokeFunction('convertToInteractive',\n",
              "                                                     [key], {});\n",
              "          if (!dataTable) return;\n",
              "\n",
              "          const docLinkHtml = 'Like what you see? Visit the ' +\n",
              "            '<a target=\"_blank\" href=https://colab.research.google.com/notebooks/data_table.ipynb>data table notebook</a>'\n",
              "            + ' to learn more about interactive tables.';\n",
              "          element.innerHTML = '';\n",
              "          dataTable['output_type'] = 'display_data';\n",
              "          await google.colab.output.renderOutput(dataTable, element);\n",
              "          const docLink = document.createElement('div');\n",
              "          docLink.innerHTML = docLinkHtml;\n",
              "          element.appendChild(docLink);\n",
              "        }\n",
              "      </script>\n",
              "    </div>\n",
              "  </div>\n",
              "  "
            ]
          },
          "metadata": {},
          "execution_count": 28
        }
      ]
    },
    {
      "cell_type": "code",
      "source": [
        "# drop the Embeddings col, keep the normalized ones\n",
        "word_df = word_df.drop(columns=['Embeddings'], axis=1)"
      ],
      "metadata": {
        "id": "iITQE7jIQnvG"
      },
      "execution_count": null,
      "outputs": []
    },
    {
      "cell_type": "code",
      "source": [
        "word_df.head()"
      ],
      "metadata": {
        "colab": {
          "base_uri": "https://localhost:8080/",
          "height": 206
        },
        "id": "tJJDBVzVQ2i1",
        "outputId": "938bd3a1-1690-4bce-ee88-de5c0cf0c5e4"
      },
      "execution_count": null,
      "outputs": [
        {
          "output_type": "execute_result",
          "data": {
            "text/plain": [
              "  Author's Name                              Normalized_Embeddings\n",
              "0   Al-Shayeb B  [0.07625947706009535, 0.06236998095975932, 0.1...\n",
              "1  Barendregt A  [0.019399421845954196, -0.20864226456907436, 0...\n",
              "2      Batey RT  [0.03972427045820143, 0.022166844808073113, 0....\n",
              "3      Bhuiya A  [0.028337829182048503, -0.02928867910470235, 0...\n",
              "4       Cate JH  [0.013357756863408723, 0.05910553574800407, 0...."
            ],
            "text/html": [
              "\n",
              "  <div id=\"df-7e5d00d7-7a0a-4b7f-af07-1b2e7c0c0466\">\n",
              "    <div class=\"colab-df-container\">\n",
              "      <div>\n",
              "<style scoped>\n",
              "    .dataframe tbody tr th:only-of-type {\n",
              "        vertical-align: middle;\n",
              "    }\n",
              "\n",
              "    .dataframe tbody tr th {\n",
              "        vertical-align: top;\n",
              "    }\n",
              "\n",
              "    .dataframe thead th {\n",
              "        text-align: right;\n",
              "    }\n",
              "</style>\n",
              "<table border=\"1\" class=\"dataframe\">\n",
              "  <thead>\n",
              "    <tr style=\"text-align: right;\">\n",
              "      <th></th>\n",
              "      <th>Author's Name</th>\n",
              "      <th>Normalized_Embeddings</th>\n",
              "    </tr>\n",
              "  </thead>\n",
              "  <tbody>\n",
              "    <tr>\n",
              "      <th>0</th>\n",
              "      <td>Al-Shayeb B</td>\n",
              "      <td>[0.07625947706009535, 0.06236998095975932, 0.1...</td>\n",
              "    </tr>\n",
              "    <tr>\n",
              "      <th>1</th>\n",
              "      <td>Barendregt A</td>\n",
              "      <td>[0.019399421845954196, -0.20864226456907436, 0...</td>\n",
              "    </tr>\n",
              "    <tr>\n",
              "      <th>2</th>\n",
              "      <td>Batey RT</td>\n",
              "      <td>[0.03972427045820143, 0.022166844808073113, 0....</td>\n",
              "    </tr>\n",
              "    <tr>\n",
              "      <th>3</th>\n",
              "      <td>Bhuiya A</td>\n",
              "      <td>[0.028337829182048503, -0.02928867910470235, 0...</td>\n",
              "    </tr>\n",
              "    <tr>\n",
              "      <th>4</th>\n",
              "      <td>Cate JH</td>\n",
              "      <td>[0.013357756863408723, 0.05910553574800407, 0....</td>\n",
              "    </tr>\n",
              "  </tbody>\n",
              "</table>\n",
              "</div>\n",
              "      <button class=\"colab-df-convert\" onclick=\"convertToInteractive('df-7e5d00d7-7a0a-4b7f-af07-1b2e7c0c0466')\"\n",
              "              title=\"Convert this dataframe to an interactive table.\"\n",
              "              style=\"display:none;\">\n",
              "        \n",
              "  <svg xmlns=\"http://www.w3.org/2000/svg\" height=\"24px\"viewBox=\"0 0 24 24\"\n",
              "       width=\"24px\">\n",
              "    <path d=\"M0 0h24v24H0V0z\" fill=\"none\"/>\n",
              "    <path d=\"M18.56 5.44l.94 2.06.94-2.06 2.06-.94-2.06-.94-.94-2.06-.94 2.06-2.06.94zm-11 1L8.5 8.5l.94-2.06 2.06-.94-2.06-.94L8.5 2.5l-.94 2.06-2.06.94zm10 10l.94 2.06.94-2.06 2.06-.94-2.06-.94-.94-2.06-.94 2.06-2.06.94z\"/><path d=\"M17.41 7.96l-1.37-1.37c-.4-.4-.92-.59-1.43-.59-.52 0-1.04.2-1.43.59L10.3 9.45l-7.72 7.72c-.78.78-.78 2.05 0 2.83L4 21.41c.39.39.9.59 1.41.59.51 0 1.02-.2 1.41-.59l7.78-7.78 2.81-2.81c.8-.78.8-2.07 0-2.86zM5.41 20L4 18.59l7.72-7.72 1.47 1.35L5.41 20z\"/>\n",
              "  </svg>\n",
              "      </button>\n",
              "      \n",
              "  <style>\n",
              "    .colab-df-container {\n",
              "      display:flex;\n",
              "      flex-wrap:wrap;\n",
              "      gap: 12px;\n",
              "    }\n",
              "\n",
              "    .colab-df-convert {\n",
              "      background-color: #E8F0FE;\n",
              "      border: none;\n",
              "      border-radius: 50%;\n",
              "      cursor: pointer;\n",
              "      display: none;\n",
              "      fill: #1967D2;\n",
              "      height: 32px;\n",
              "      padding: 0 0 0 0;\n",
              "      width: 32px;\n",
              "    }\n",
              "\n",
              "    .colab-df-convert:hover {\n",
              "      background-color: #E2EBFA;\n",
              "      box-shadow: 0px 1px 2px rgba(60, 64, 67, 0.3), 0px 1px 3px 1px rgba(60, 64, 67, 0.15);\n",
              "      fill: #174EA6;\n",
              "    }\n",
              "\n",
              "    [theme=dark] .colab-df-convert {\n",
              "      background-color: #3B4455;\n",
              "      fill: #D2E3FC;\n",
              "    }\n",
              "\n",
              "    [theme=dark] .colab-df-convert:hover {\n",
              "      background-color: #434B5C;\n",
              "      box-shadow: 0px 1px 3px 1px rgba(0, 0, 0, 0.15);\n",
              "      filter: drop-shadow(0px 1px 2px rgba(0, 0, 0, 0.3));\n",
              "      fill: #FFFFFF;\n",
              "    }\n",
              "  </style>\n",
              "\n",
              "      <script>\n",
              "        const buttonEl =\n",
              "          document.querySelector('#df-7e5d00d7-7a0a-4b7f-af07-1b2e7c0c0466 button.colab-df-convert');\n",
              "        buttonEl.style.display =\n",
              "          google.colab.kernel.accessAllowed ? 'block' : 'none';\n",
              "\n",
              "        async function convertToInteractive(key) {\n",
              "          const element = document.querySelector('#df-7e5d00d7-7a0a-4b7f-af07-1b2e7c0c0466');\n",
              "          const dataTable =\n",
              "            await google.colab.kernel.invokeFunction('convertToInteractive',\n",
              "                                                     [key], {});\n",
              "          if (!dataTable) return;\n",
              "\n",
              "          const docLinkHtml = 'Like what you see? Visit the ' +\n",
              "            '<a target=\"_blank\" href=https://colab.research.google.com/notebooks/data_table.ipynb>data table notebook</a>'\n",
              "            + ' to learn more about interactive tables.';\n",
              "          element.innerHTML = '';\n",
              "          dataTable['output_type'] = 'display_data';\n",
              "          await google.colab.output.renderOutput(dataTable, element);\n",
              "          const docLink = document.createElement('div');\n",
              "          docLink.innerHTML = docLinkHtml;\n",
              "          element.appendChild(docLink);\n",
              "        }\n",
              "      </script>\n",
              "    </div>\n",
              "  </div>\n",
              "  "
            ]
          },
          "metadata": {},
          "execution_count": 30
        }
      ]
    },
    {
      "cell_type": "code",
      "source": [
        "node_df.shape"
      ],
      "metadata": {
        "colab": {
          "base_uri": "https://localhost:8080/"
        },
        "id": "MoUxq6JGB922",
        "outputId": "20bb7689-06d6-46ae-ab55-a553cb9d45c1"
      },
      "execution_count": null,
      "outputs": [
        {
          "output_type": "execute_result",
          "data": {
            "text/plain": [
              "(64, 9315)"
            ]
          },
          "metadata": {},
          "execution_count": 31
        }
      ]
    },
    {
      "cell_type": "code",
      "source": [
        "word_df.head(2)"
      ],
      "metadata": {
        "colab": {
          "base_uri": "https://localhost:8080/",
          "height": 112
        },
        "id": "nxXRgz8wCHDJ",
        "outputId": "01b3a8cf-789f-4937-d56b-61023b9181bb"
      },
      "execution_count": null,
      "outputs": [
        {
          "output_type": "execute_result",
          "data": {
            "text/plain": [
              "  Author's Name                              Normalized_Embeddings\n",
              "0   Al-Shayeb B  [0.07625947706009535, 0.06236998095975932, 0.1...\n",
              "1  Barendregt A  [0.019399421845954196, -0.20864226456907436, 0..."
            ],
            "text/html": [
              "\n",
              "  <div id=\"df-535bfe3e-11a4-4f31-9f82-0bccc4f17c50\">\n",
              "    <div class=\"colab-df-container\">\n",
              "      <div>\n",
              "<style scoped>\n",
              "    .dataframe tbody tr th:only-of-type {\n",
              "        vertical-align: middle;\n",
              "    }\n",
              "\n",
              "    .dataframe tbody tr th {\n",
              "        vertical-align: top;\n",
              "    }\n",
              "\n",
              "    .dataframe thead th {\n",
              "        text-align: right;\n",
              "    }\n",
              "</style>\n",
              "<table border=\"1\" class=\"dataframe\">\n",
              "  <thead>\n",
              "    <tr style=\"text-align: right;\">\n",
              "      <th></th>\n",
              "      <th>Author's Name</th>\n",
              "      <th>Normalized_Embeddings</th>\n",
              "    </tr>\n",
              "  </thead>\n",
              "  <tbody>\n",
              "    <tr>\n",
              "      <th>0</th>\n",
              "      <td>Al-Shayeb B</td>\n",
              "      <td>[0.07625947706009535, 0.06236998095975932, 0.1...</td>\n",
              "    </tr>\n",
              "    <tr>\n",
              "      <th>1</th>\n",
              "      <td>Barendregt A</td>\n",
              "      <td>[0.019399421845954196, -0.20864226456907436, 0...</td>\n",
              "    </tr>\n",
              "  </tbody>\n",
              "</table>\n",
              "</div>\n",
              "      <button class=\"colab-df-convert\" onclick=\"convertToInteractive('df-535bfe3e-11a4-4f31-9f82-0bccc4f17c50')\"\n",
              "              title=\"Convert this dataframe to an interactive table.\"\n",
              "              style=\"display:none;\">\n",
              "        \n",
              "  <svg xmlns=\"http://www.w3.org/2000/svg\" height=\"24px\"viewBox=\"0 0 24 24\"\n",
              "       width=\"24px\">\n",
              "    <path d=\"M0 0h24v24H0V0z\" fill=\"none\"/>\n",
              "    <path d=\"M18.56 5.44l.94 2.06.94-2.06 2.06-.94-2.06-.94-.94-2.06-.94 2.06-2.06.94zm-11 1L8.5 8.5l.94-2.06 2.06-.94-2.06-.94L8.5 2.5l-.94 2.06-2.06.94zm10 10l.94 2.06.94-2.06 2.06-.94-2.06-.94-.94-2.06-.94 2.06-2.06.94z\"/><path d=\"M17.41 7.96l-1.37-1.37c-.4-.4-.92-.59-1.43-.59-.52 0-1.04.2-1.43.59L10.3 9.45l-7.72 7.72c-.78.78-.78 2.05 0 2.83L4 21.41c.39.39.9.59 1.41.59.51 0 1.02-.2 1.41-.59l7.78-7.78 2.81-2.81c.8-.78.8-2.07 0-2.86zM5.41 20L4 18.59l7.72-7.72 1.47 1.35L5.41 20z\"/>\n",
              "  </svg>\n",
              "      </button>\n",
              "      \n",
              "  <style>\n",
              "    .colab-df-container {\n",
              "      display:flex;\n",
              "      flex-wrap:wrap;\n",
              "      gap: 12px;\n",
              "    }\n",
              "\n",
              "    .colab-df-convert {\n",
              "      background-color: #E8F0FE;\n",
              "      border: none;\n",
              "      border-radius: 50%;\n",
              "      cursor: pointer;\n",
              "      display: none;\n",
              "      fill: #1967D2;\n",
              "      height: 32px;\n",
              "      padding: 0 0 0 0;\n",
              "      width: 32px;\n",
              "    }\n",
              "\n",
              "    .colab-df-convert:hover {\n",
              "      background-color: #E2EBFA;\n",
              "      box-shadow: 0px 1px 2px rgba(60, 64, 67, 0.3), 0px 1px 3px 1px rgba(60, 64, 67, 0.15);\n",
              "      fill: #174EA6;\n",
              "    }\n",
              "\n",
              "    [theme=dark] .colab-df-convert {\n",
              "      background-color: #3B4455;\n",
              "      fill: #D2E3FC;\n",
              "    }\n",
              "\n",
              "    [theme=dark] .colab-df-convert:hover {\n",
              "      background-color: #434B5C;\n",
              "      box-shadow: 0px 1px 3px 1px rgba(0, 0, 0, 0.15);\n",
              "      filter: drop-shadow(0px 1px 2px rgba(0, 0, 0, 0.3));\n",
              "      fill: #FFFFFF;\n",
              "    }\n",
              "  </style>\n",
              "\n",
              "      <script>\n",
              "        const buttonEl =\n",
              "          document.querySelector('#df-535bfe3e-11a4-4f31-9f82-0bccc4f17c50 button.colab-df-convert');\n",
              "        buttonEl.style.display =\n",
              "          google.colab.kernel.accessAllowed ? 'block' : 'none';\n",
              "\n",
              "        async function convertToInteractive(key) {\n",
              "          const element = document.querySelector('#df-535bfe3e-11a4-4f31-9f82-0bccc4f17c50');\n",
              "          const dataTable =\n",
              "            await google.colab.kernel.invokeFunction('convertToInteractive',\n",
              "                                                     [key], {});\n",
              "          if (!dataTable) return;\n",
              "\n",
              "          const docLinkHtml = 'Like what you see? Visit the ' +\n",
              "            '<a target=\"_blank\" href=https://colab.research.google.com/notebooks/data_table.ipynb>data table notebook</a>'\n",
              "            + ' to learn more about interactive tables.';\n",
              "          element.innerHTML = '';\n",
              "          dataTable['output_type'] = 'display_data';\n",
              "          await google.colab.output.renderOutput(dataTable, element);\n",
              "          const docLink = document.createElement('div');\n",
              "          docLink.innerHTML = docLinkHtml;\n",
              "          element.appendChild(docLink);\n",
              "        }\n",
              "      </script>\n",
              "    </div>\n",
              "  </div>\n",
              "  "
            ]
          },
          "metadata": {},
          "execution_count": 32
        }
      ]
    },
    {
      "cell_type": "code",
      "source": [
        "node_df.head()"
      ],
      "metadata": {
        "colab": {
          "base_uri": "https://localhost:8080/",
          "height": 297
        },
        "id": "YYmSH63ZCOpO",
        "outputId": "fed1baba-5b2c-476b-806b-a66a8a49f9b0"
      },
      "execution_count": null,
      "outputs": [
        {
          "output_type": "execute_result",
          "data": {
            "text/plain": [
              "   Unnamed: 0  Phillips TJ  Piacentino G  Wicklund AB  Wicklund E  Barnes VE  \\\n",
              "0           0     1.344511      1.115870     0.522319    0.557029   1.007622   \n",
              "1           1    -0.291456     -0.149140    -1.111118   -1.130751  -0.245401   \n",
              "2           2    -0.168883     -0.534681     0.461038    0.600521   0.802285   \n",
              "3           3     0.252316      0.162273    -0.214736   -0.259373   0.222775   \n",
              "4           4    -0.095413      0.008855     0.916190    0.599248   1.008481   \n",
              "\n",
              "   Barnett BA    Kim DH    Kim HS  Bellettini G  ...  Marchan R   Ryan DT  \\\n",
              "0    1.101976  0.621170  0.438670      0.105811  ...   0.042321  0.827119   \n",
              "1   -0.585893 -0.287559 -0.539451     -0.584320  ...  -0.922665 -0.516069   \n",
              "2    0.802847  1.072360  1.094911      0.985515  ...   0.009107  0.201217   \n",
              "3    0.088356  0.328578  0.549573      1.309394  ...   0.553292 -0.173487   \n",
              "4    0.903509 -0.027406  0.076618      1.484426  ...   0.557132  0.662370   \n",
              "\n",
              "    Saber R   Reyes H    Rose D  Rosenberg MF  Sanchez-Guerrero E    Yang R  \\\n",
              "0  0.804312  0.615185  0.193408      0.006116           -0.152700  0.651502   \n",
              "1 -0.531427  0.668014  0.500724      0.024229           -0.007117 -0.377749   \n",
              "2  0.188124  1.683016  1.727997      1.405511            1.122148  1.050483   \n",
              "3 -0.186825  0.214489 -0.063676      0.013561            0.016312  1.143785   \n",
              "4  0.645075  0.188477  0.782814      0.999997            1.106833  1.067319   \n",
              "\n",
              "     Zhan Y  Sattler SM  \n",
              "0  0.657663   -0.182403  \n",
              "1 -0.381156   -0.118659  \n",
              "2  1.024059    0.977477  \n",
              "3  1.133574    0.101486  \n",
              "4  1.100024    1.169499  \n",
              "\n",
              "[5 rows x 9315 columns]"
            ],
            "text/html": [
              "\n",
              "  <div id=\"df-5e4972f7-46e1-4ac3-8f28-dcc4c1a4a0f4\">\n",
              "    <div class=\"colab-df-container\">\n",
              "      <div>\n",
              "<style scoped>\n",
              "    .dataframe tbody tr th:only-of-type {\n",
              "        vertical-align: middle;\n",
              "    }\n",
              "\n",
              "    .dataframe tbody tr th {\n",
              "        vertical-align: top;\n",
              "    }\n",
              "\n",
              "    .dataframe thead th {\n",
              "        text-align: right;\n",
              "    }\n",
              "</style>\n",
              "<table border=\"1\" class=\"dataframe\">\n",
              "  <thead>\n",
              "    <tr style=\"text-align: right;\">\n",
              "      <th></th>\n",
              "      <th>Unnamed: 0</th>\n",
              "      <th>Phillips TJ</th>\n",
              "      <th>Piacentino G</th>\n",
              "      <th>Wicklund AB</th>\n",
              "      <th>Wicklund E</th>\n",
              "      <th>Barnes VE</th>\n",
              "      <th>Barnett BA</th>\n",
              "      <th>Kim DH</th>\n",
              "      <th>Kim HS</th>\n",
              "      <th>Bellettini G</th>\n",
              "      <th>...</th>\n",
              "      <th>Marchan R</th>\n",
              "      <th>Ryan DT</th>\n",
              "      <th>Saber R</th>\n",
              "      <th>Reyes H</th>\n",
              "      <th>Rose D</th>\n",
              "      <th>Rosenberg MF</th>\n",
              "      <th>Sanchez-Guerrero E</th>\n",
              "      <th>Yang R</th>\n",
              "      <th>Zhan Y</th>\n",
              "      <th>Sattler SM</th>\n",
              "    </tr>\n",
              "  </thead>\n",
              "  <tbody>\n",
              "    <tr>\n",
              "      <th>0</th>\n",
              "      <td>0</td>\n",
              "      <td>1.344511</td>\n",
              "      <td>1.115870</td>\n",
              "      <td>0.522319</td>\n",
              "      <td>0.557029</td>\n",
              "      <td>1.007622</td>\n",
              "      <td>1.101976</td>\n",
              "      <td>0.621170</td>\n",
              "      <td>0.438670</td>\n",
              "      <td>0.105811</td>\n",
              "      <td>...</td>\n",
              "      <td>0.042321</td>\n",
              "      <td>0.827119</td>\n",
              "      <td>0.804312</td>\n",
              "      <td>0.615185</td>\n",
              "      <td>0.193408</td>\n",
              "      <td>0.006116</td>\n",
              "      <td>-0.152700</td>\n",
              "      <td>0.651502</td>\n",
              "      <td>0.657663</td>\n",
              "      <td>-0.182403</td>\n",
              "    </tr>\n",
              "    <tr>\n",
              "      <th>1</th>\n",
              "      <td>1</td>\n",
              "      <td>-0.291456</td>\n",
              "      <td>-0.149140</td>\n",
              "      <td>-1.111118</td>\n",
              "      <td>-1.130751</td>\n",
              "      <td>-0.245401</td>\n",
              "      <td>-0.585893</td>\n",
              "      <td>-0.287559</td>\n",
              "      <td>-0.539451</td>\n",
              "      <td>-0.584320</td>\n",
              "      <td>...</td>\n",
              "      <td>-0.922665</td>\n",
              "      <td>-0.516069</td>\n",
              "      <td>-0.531427</td>\n",
              "      <td>0.668014</td>\n",
              "      <td>0.500724</td>\n",
              "      <td>0.024229</td>\n",
              "      <td>-0.007117</td>\n",
              "      <td>-0.377749</td>\n",
              "      <td>-0.381156</td>\n",
              "      <td>-0.118659</td>\n",
              "    </tr>\n",
              "    <tr>\n",
              "      <th>2</th>\n",
              "      <td>2</td>\n",
              "      <td>-0.168883</td>\n",
              "      <td>-0.534681</td>\n",
              "      <td>0.461038</td>\n",
              "      <td>0.600521</td>\n",
              "      <td>0.802285</td>\n",
              "      <td>0.802847</td>\n",
              "      <td>1.072360</td>\n",
              "      <td>1.094911</td>\n",
              "      <td>0.985515</td>\n",
              "      <td>...</td>\n",
              "      <td>0.009107</td>\n",
              "      <td>0.201217</td>\n",
              "      <td>0.188124</td>\n",
              "      <td>1.683016</td>\n",
              "      <td>1.727997</td>\n",
              "      <td>1.405511</td>\n",
              "      <td>1.122148</td>\n",
              "      <td>1.050483</td>\n",
              "      <td>1.024059</td>\n",
              "      <td>0.977477</td>\n",
              "    </tr>\n",
              "    <tr>\n",
              "      <th>3</th>\n",
              "      <td>3</td>\n",
              "      <td>0.252316</td>\n",
              "      <td>0.162273</td>\n",
              "      <td>-0.214736</td>\n",
              "      <td>-0.259373</td>\n",
              "      <td>0.222775</td>\n",
              "      <td>0.088356</td>\n",
              "      <td>0.328578</td>\n",
              "      <td>0.549573</td>\n",
              "      <td>1.309394</td>\n",
              "      <td>...</td>\n",
              "      <td>0.553292</td>\n",
              "      <td>-0.173487</td>\n",
              "      <td>-0.186825</td>\n",
              "      <td>0.214489</td>\n",
              "      <td>-0.063676</td>\n",
              "      <td>0.013561</td>\n",
              "      <td>0.016312</td>\n",
              "      <td>1.143785</td>\n",
              "      <td>1.133574</td>\n",
              "      <td>0.101486</td>\n",
              "    </tr>\n",
              "    <tr>\n",
              "      <th>4</th>\n",
              "      <td>4</td>\n",
              "      <td>-0.095413</td>\n",
              "      <td>0.008855</td>\n",
              "      <td>0.916190</td>\n",
              "      <td>0.599248</td>\n",
              "      <td>1.008481</td>\n",
              "      <td>0.903509</td>\n",
              "      <td>-0.027406</td>\n",
              "      <td>0.076618</td>\n",
              "      <td>1.484426</td>\n",
              "      <td>...</td>\n",
              "      <td>0.557132</td>\n",
              "      <td>0.662370</td>\n",
              "      <td>0.645075</td>\n",
              "      <td>0.188477</td>\n",
              "      <td>0.782814</td>\n",
              "      <td>0.999997</td>\n",
              "      <td>1.106833</td>\n",
              "      <td>1.067319</td>\n",
              "      <td>1.100024</td>\n",
              "      <td>1.169499</td>\n",
              "    </tr>\n",
              "  </tbody>\n",
              "</table>\n",
              "<p>5 rows × 9315 columns</p>\n",
              "</div>\n",
              "      <button class=\"colab-df-convert\" onclick=\"convertToInteractive('df-5e4972f7-46e1-4ac3-8f28-dcc4c1a4a0f4')\"\n",
              "              title=\"Convert this dataframe to an interactive table.\"\n",
              "              style=\"display:none;\">\n",
              "        \n",
              "  <svg xmlns=\"http://www.w3.org/2000/svg\" height=\"24px\"viewBox=\"0 0 24 24\"\n",
              "       width=\"24px\">\n",
              "    <path d=\"M0 0h24v24H0V0z\" fill=\"none\"/>\n",
              "    <path d=\"M18.56 5.44l.94 2.06.94-2.06 2.06-.94-2.06-.94-.94-2.06-.94 2.06-2.06.94zm-11 1L8.5 8.5l.94-2.06 2.06-.94-2.06-.94L8.5 2.5l-.94 2.06-2.06.94zm10 10l.94 2.06.94-2.06 2.06-.94-2.06-.94-.94-2.06-.94 2.06-2.06.94z\"/><path d=\"M17.41 7.96l-1.37-1.37c-.4-.4-.92-.59-1.43-.59-.52 0-1.04.2-1.43.59L10.3 9.45l-7.72 7.72c-.78.78-.78 2.05 0 2.83L4 21.41c.39.39.9.59 1.41.59.51 0 1.02-.2 1.41-.59l7.78-7.78 2.81-2.81c.8-.78.8-2.07 0-2.86zM5.41 20L4 18.59l7.72-7.72 1.47 1.35L5.41 20z\"/>\n",
              "  </svg>\n",
              "      </button>\n",
              "      \n",
              "  <style>\n",
              "    .colab-df-container {\n",
              "      display:flex;\n",
              "      flex-wrap:wrap;\n",
              "      gap: 12px;\n",
              "    }\n",
              "\n",
              "    .colab-df-convert {\n",
              "      background-color: #E8F0FE;\n",
              "      border: none;\n",
              "      border-radius: 50%;\n",
              "      cursor: pointer;\n",
              "      display: none;\n",
              "      fill: #1967D2;\n",
              "      height: 32px;\n",
              "      padding: 0 0 0 0;\n",
              "      width: 32px;\n",
              "    }\n",
              "\n",
              "    .colab-df-convert:hover {\n",
              "      background-color: #E2EBFA;\n",
              "      box-shadow: 0px 1px 2px rgba(60, 64, 67, 0.3), 0px 1px 3px 1px rgba(60, 64, 67, 0.15);\n",
              "      fill: #174EA6;\n",
              "    }\n",
              "\n",
              "    [theme=dark] .colab-df-convert {\n",
              "      background-color: #3B4455;\n",
              "      fill: #D2E3FC;\n",
              "    }\n",
              "\n",
              "    [theme=dark] .colab-df-convert:hover {\n",
              "      background-color: #434B5C;\n",
              "      box-shadow: 0px 1px 3px 1px rgba(0, 0, 0, 0.15);\n",
              "      filter: drop-shadow(0px 1px 2px rgba(0, 0, 0, 0.3));\n",
              "      fill: #FFFFFF;\n",
              "    }\n",
              "  </style>\n",
              "\n",
              "      <script>\n",
              "        const buttonEl =\n",
              "          document.querySelector('#df-5e4972f7-46e1-4ac3-8f28-dcc4c1a4a0f4 button.colab-df-convert');\n",
              "        buttonEl.style.display =\n",
              "          google.colab.kernel.accessAllowed ? 'block' : 'none';\n",
              "\n",
              "        async function convertToInteractive(key) {\n",
              "          const element = document.querySelector('#df-5e4972f7-46e1-4ac3-8f28-dcc4c1a4a0f4');\n",
              "          const dataTable =\n",
              "            await google.colab.kernel.invokeFunction('convertToInteractive',\n",
              "                                                     [key], {});\n",
              "          if (!dataTable) return;\n",
              "\n",
              "          const docLinkHtml = 'Like what you see? Visit the ' +\n",
              "            '<a target=\"_blank\" href=https://colab.research.google.com/notebooks/data_table.ipynb>data table notebook</a>'\n",
              "            + ' to learn more about interactive tables.';\n",
              "          element.innerHTML = '';\n",
              "          dataTable['output_type'] = 'display_data';\n",
              "          await google.colab.output.renderOutput(dataTable, element);\n",
              "          const docLink = document.createElement('div');\n",
              "          docLink.innerHTML = docLinkHtml;\n",
              "          element.appendChild(docLink);\n",
              "        }\n",
              "      </script>\n",
              "    </div>\n",
              "  </div>\n",
              "  "
            ]
          },
          "metadata": {},
          "execution_count": 33
        }
      ]
    },
    {
      "cell_type": "code",
      "source": [
        "# Transpose the dataframe so that the authors are rows and values are columns\n",
        "df_t = node_df.transpose()\n",
        "\n",
        "# Merge the two values for each author into a list\n",
        "df_t['node_embeddings'] = df_t.apply(lambda x: x.tolist(), axis=1)\n",
        "\n",
        "# Reset the index to turn the author names into a column\n",
        "df_t = df_t.reset_index()\n",
        "\n",
        "# Rename the columns\n",
        "df_t = df_t.rename(columns={'index': 'Author'})\n",
        "\n",
        "# Reshape the dataframe using melt\n",
        "#df_new = pd.melt(df_t, id_vars=['Author'], value_vars=['node_embeddings'], var_name='Attribute')\n",
        "\n",
        "# Rename the 'value' column to 'node_embeddings'\n",
        "#df_new = df_new.rename(columns={'value': 'node_embeddings'})\n",
        "\n",
        "# Drop the individual value columns (0, 1, ..., 63)\n",
        "df_new = df_t.drop(columns=[i for i in range(64)])"
      ],
      "metadata": {
        "id": "hhgQc56ME0k5"
      },
      "execution_count": null,
      "outputs": []
    },
    {
      "cell_type": "code",
      "source": [
        "# rename\n",
        "nodes_df = df_new"
      ],
      "metadata": {
        "id": "yzfXJQtPFSBW"
      },
      "execution_count": null,
      "outputs": []
    },
    {
      "cell_type": "code",
      "source": [
        "nodes_df.info()"
      ],
      "metadata": {
        "colab": {
          "base_uri": "https://localhost:8080/"
        },
        "id": "kQe73SDlPUZu",
        "outputId": "d0890c68-8940-454c-e176-946f666a370e"
      },
      "execution_count": null,
      "outputs": [
        {
          "output_type": "stream",
          "name": "stdout",
          "text": [
            "<class 'pandas.core.frame.DataFrame'>\n",
            "RangeIndex: 9315 entries, 0 to 9314\n",
            "Data columns (total 2 columns):\n",
            " #   Column           Non-Null Count  Dtype \n",
            "---  ------           --------------  ----- \n",
            " 0   Author           9315 non-null   object\n",
            " 1   node_embeddings  9315 non-null   object\n",
            "dtypes: object(2)\n",
            "memory usage: 145.7+ KB\n"
          ]
        }
      ]
    },
    {
      "cell_type": "code",
      "source": [
        "# reset the index for both dfs for authors\n",
        "word_df.set_index(\"Author's Name\", inplace=True)\n",
        "nodes_df.set_index('Author', inplace=True)"
      ],
      "metadata": {
        "id": "zAjC_xZmK7uB"
      },
      "execution_count": null,
      "outputs": []
    },
    {
      "cell_type": "code",
      "source": [
        "# join on authors\n",
        "combined_df = word_df.join(nodes_df, how='inner')"
      ],
      "metadata": {
        "id": "slheGQ3-LbMg"
      },
      "execution_count": null,
      "outputs": []
    },
    {
      "cell_type": "code",
      "source": [
        "combined_df.head()"
      ],
      "metadata": {
        "colab": {
          "base_uri": "https://localhost:8080/",
          "height": 206
        },
        "id": "eIzkf5rMNxUR",
        "outputId": "b4ce7821-0858-435f-c5af-b60b22c2eddc"
      },
      "execution_count": null,
      "outputs": [
        {
          "output_type": "execute_result",
          "data": {
            "text/plain": [
              "                                          Normalized_Embeddings  \\\n",
              "Al-Shayeb B   [0.07625947706009535, 0.06236998095975932, 0.1...   \n",
              "Barendregt A  [0.019399421845954196, -0.20864226456907436, 0...   \n",
              "Batey RT      [0.03972427045820143, 0.022166844808073113, 0....   \n",
              "Bhuiya A      [0.028337829182048503, -0.02928867910470235, 0...   \n",
              "Cate JH       [0.013357756863408723, 0.05910553574800407, 0....   \n",
              "\n",
              "                                                node_embeddings  \n",
              "Al-Shayeb B   [-0.24863271, -0.66020936, -0.3407214, 0.74689...  \n",
              "Barendregt A  [-1.0794631, 0.8089011, 0.6455029, -0.00250981...  \n",
              "Batey RT      [-0.52939165, 0.39986277, 0.117675126, 0.31100...  \n",
              "Bhuiya A      [0.37623093, -0.27395234, 1.0468729, 0.263364,...  \n",
              "Cate JH       [-0.1796872, -0.028261252, 0.16866569, 0.64339...  "
            ],
            "text/html": [
              "\n",
              "  <div id=\"df-dcaf6d4f-511a-4f91-a4e6-f378f1629b72\">\n",
              "    <div class=\"colab-df-container\">\n",
              "      <div>\n",
              "<style scoped>\n",
              "    .dataframe tbody tr th:only-of-type {\n",
              "        vertical-align: middle;\n",
              "    }\n",
              "\n",
              "    .dataframe tbody tr th {\n",
              "        vertical-align: top;\n",
              "    }\n",
              "\n",
              "    .dataframe thead th {\n",
              "        text-align: right;\n",
              "    }\n",
              "</style>\n",
              "<table border=\"1\" class=\"dataframe\">\n",
              "  <thead>\n",
              "    <tr style=\"text-align: right;\">\n",
              "      <th></th>\n",
              "      <th>Normalized_Embeddings</th>\n",
              "      <th>node_embeddings</th>\n",
              "    </tr>\n",
              "  </thead>\n",
              "  <tbody>\n",
              "    <tr>\n",
              "      <th>Al-Shayeb B</th>\n",
              "      <td>[0.07625947706009535, 0.06236998095975932, 0.1...</td>\n",
              "      <td>[-0.24863271, -0.66020936, -0.3407214, 0.74689...</td>\n",
              "    </tr>\n",
              "    <tr>\n",
              "      <th>Barendregt A</th>\n",
              "      <td>[0.019399421845954196, -0.20864226456907436, 0...</td>\n",
              "      <td>[-1.0794631, 0.8089011, 0.6455029, -0.00250981...</td>\n",
              "    </tr>\n",
              "    <tr>\n",
              "      <th>Batey RT</th>\n",
              "      <td>[0.03972427045820143, 0.022166844808073113, 0....</td>\n",
              "      <td>[-0.52939165, 0.39986277, 0.117675126, 0.31100...</td>\n",
              "    </tr>\n",
              "    <tr>\n",
              "      <th>Bhuiya A</th>\n",
              "      <td>[0.028337829182048503, -0.02928867910470235, 0...</td>\n",
              "      <td>[0.37623093, -0.27395234, 1.0468729, 0.263364,...</td>\n",
              "    </tr>\n",
              "    <tr>\n",
              "      <th>Cate JH</th>\n",
              "      <td>[0.013357756863408723, 0.05910553574800407, 0....</td>\n",
              "      <td>[-0.1796872, -0.028261252, 0.16866569, 0.64339...</td>\n",
              "    </tr>\n",
              "  </tbody>\n",
              "</table>\n",
              "</div>\n",
              "      <button class=\"colab-df-convert\" onclick=\"convertToInteractive('df-dcaf6d4f-511a-4f91-a4e6-f378f1629b72')\"\n",
              "              title=\"Convert this dataframe to an interactive table.\"\n",
              "              style=\"display:none;\">\n",
              "        \n",
              "  <svg xmlns=\"http://www.w3.org/2000/svg\" height=\"24px\"viewBox=\"0 0 24 24\"\n",
              "       width=\"24px\">\n",
              "    <path d=\"M0 0h24v24H0V0z\" fill=\"none\"/>\n",
              "    <path d=\"M18.56 5.44l.94 2.06.94-2.06 2.06-.94-2.06-.94-.94-2.06-.94 2.06-2.06.94zm-11 1L8.5 8.5l.94-2.06 2.06-.94-2.06-.94L8.5 2.5l-.94 2.06-2.06.94zm10 10l.94 2.06.94-2.06 2.06-.94-2.06-.94-.94-2.06-.94 2.06-2.06.94z\"/><path d=\"M17.41 7.96l-1.37-1.37c-.4-.4-.92-.59-1.43-.59-.52 0-1.04.2-1.43.59L10.3 9.45l-7.72 7.72c-.78.78-.78 2.05 0 2.83L4 21.41c.39.39.9.59 1.41.59.51 0 1.02-.2 1.41-.59l7.78-7.78 2.81-2.81c.8-.78.8-2.07 0-2.86zM5.41 20L4 18.59l7.72-7.72 1.47 1.35L5.41 20z\"/>\n",
              "  </svg>\n",
              "      </button>\n",
              "      \n",
              "  <style>\n",
              "    .colab-df-container {\n",
              "      display:flex;\n",
              "      flex-wrap:wrap;\n",
              "      gap: 12px;\n",
              "    }\n",
              "\n",
              "    .colab-df-convert {\n",
              "      background-color: #E8F0FE;\n",
              "      border: none;\n",
              "      border-radius: 50%;\n",
              "      cursor: pointer;\n",
              "      display: none;\n",
              "      fill: #1967D2;\n",
              "      height: 32px;\n",
              "      padding: 0 0 0 0;\n",
              "      width: 32px;\n",
              "    }\n",
              "\n",
              "    .colab-df-convert:hover {\n",
              "      background-color: #E2EBFA;\n",
              "      box-shadow: 0px 1px 2px rgba(60, 64, 67, 0.3), 0px 1px 3px 1px rgba(60, 64, 67, 0.15);\n",
              "      fill: #174EA6;\n",
              "    }\n",
              "\n",
              "    [theme=dark] .colab-df-convert {\n",
              "      background-color: #3B4455;\n",
              "      fill: #D2E3FC;\n",
              "    }\n",
              "\n",
              "    [theme=dark] .colab-df-convert:hover {\n",
              "      background-color: #434B5C;\n",
              "      box-shadow: 0px 1px 3px 1px rgba(0, 0, 0, 0.15);\n",
              "      filter: drop-shadow(0px 1px 2px rgba(0, 0, 0, 0.3));\n",
              "      fill: #FFFFFF;\n",
              "    }\n",
              "  </style>\n",
              "\n",
              "      <script>\n",
              "        const buttonEl =\n",
              "          document.querySelector('#df-dcaf6d4f-511a-4f91-a4e6-f378f1629b72 button.colab-df-convert');\n",
              "        buttonEl.style.display =\n",
              "          google.colab.kernel.accessAllowed ? 'block' : 'none';\n",
              "\n",
              "        async function convertToInteractive(key) {\n",
              "          const element = document.querySelector('#df-dcaf6d4f-511a-4f91-a4e6-f378f1629b72');\n",
              "          const dataTable =\n",
              "            await google.colab.kernel.invokeFunction('convertToInteractive',\n",
              "                                                     [key], {});\n",
              "          if (!dataTable) return;\n",
              "\n",
              "          const docLinkHtml = 'Like what you see? Visit the ' +\n",
              "            '<a target=\"_blank\" href=https://colab.research.google.com/notebooks/data_table.ipynb>data table notebook</a>'\n",
              "            + ' to learn more about interactive tables.';\n",
              "          element.innerHTML = '';\n",
              "          dataTable['output_type'] = 'display_data';\n",
              "          await google.colab.output.renderOutput(dataTable, element);\n",
              "          const docLink = document.createElement('div');\n",
              "          docLink.innerHTML = docLinkHtml;\n",
              "          element.appendChild(docLink);\n",
              "        }\n",
              "      </script>\n",
              "    </div>\n",
              "  </div>\n",
              "  "
            ]
          },
          "metadata": {},
          "execution_count": 39
        }
      ]
    },
    {
      "cell_type": "code",
      "source": [
        "len(combined_df)"
      ],
      "metadata": {
        "colab": {
          "base_uri": "https://localhost:8080/"
        },
        "id": "QoUO42zoN1nM",
        "outputId": "3db2f212-1c9b-433d-b60f-9fad15c7dcf9"
      },
      "execution_count": null,
      "outputs": [
        {
          "output_type": "execute_result",
          "data": {
            "text/plain": [
              "51"
            ]
          },
          "metadata": {},
          "execution_count": 40
        }
      ]
    },
    {
      "cell_type": "code",
      "source": [
        "# Check the dimensions of the first list in the 'Embedding' column\n",
        "dimensions = len(combined_df.iloc[12]['Normalized_Embeddings'])\n",
        "print(dimensions)"
      ],
      "metadata": {
        "id": "V7vtO0jHNstT",
        "colab": {
          "base_uri": "https://localhost:8080/"
        },
        "outputId": "a0b6584d-569b-465b-85cb-56a3f979b072"
      },
      "execution_count": null,
      "outputs": [
        {
          "output_type": "stream",
          "name": "stdout",
          "text": [
            "100\n"
          ]
        }
      ]
    },
    {
      "cell_type": "code",
      "source": [
        "# save the combined_df as a pickle file\n",
        "combined_df.to_pickle('/content/drive/My Drive/Pubmed_project/Dataframes/combined_embeddings.pkl')\n"
      ],
      "metadata": {
        "id": "2HPKA4ap9PxO"
      },
      "execution_count": null,
      "outputs": []
    },
    {
      "cell_type": "markdown",
      "source": [
        "**Create the final_emb_df where both word and graph embeddings are concatenated, and use this one for all downstream tasks.**\n"
      ],
      "metadata": {
        "id": "SS_yZ__1WOlL"
      }
    },
    {
      "cell_type": "code",
      "source": [
        "df = combined_df"
      ],
      "metadata": {
        "id": "3_HXoXajXsgD"
      },
      "execution_count": null,
      "outputs": []
    },
    {
      "cell_type": "code",
      "source": [
        "# Concatenate Normalized_Embeddings and node_embeddings using numpy\n",
        "df['Final_embeddings'] = df.apply(lambda row: np.concatenate((row['Normalized_Embeddings'], row['node_embeddings'])), axis=1)\n",
        "\n",
        "# Select the desired columns (Author's Name and Final_embeddings)\n",
        "final_df = df[['Final_embeddings']]"
      ],
      "metadata": {
        "id": "B6eHlx5SY_un"
      },
      "execution_count": null,
      "outputs": []
    },
    {
      "cell_type": "code",
      "source": [
        "final_df.info()"
      ],
      "metadata": {
        "colab": {
          "base_uri": "https://localhost:8080/"
        },
        "id": "tL0iR1ocZc6l",
        "outputId": "83374437-4385-4c38-83b7-ee460c607f06"
      },
      "execution_count": null,
      "outputs": [
        {
          "output_type": "stream",
          "name": "stdout",
          "text": [
            "<class 'pandas.core.frame.DataFrame'>\n",
            "Index: 51 entries, Al-Shayeb B to Wright AV\n",
            "Data columns (total 1 columns):\n",
            " #   Column            Non-Null Count  Dtype \n",
            "---  ------            --------------  ----- \n",
            " 0   Final_embeddings  51 non-null     object\n",
            "dtypes: object(1)\n",
            "memory usage: 2.9+ KB\n"
          ]
        }
      ]
    },
    {
      "cell_type": "code",
      "source": [
        "# inspect the dimensions of the final embeddings\n",
        "for index, row in df.iterrows():\n",
        "    print(f\"Final_embeddings shape: {row['Final_embeddings'].shape}\")"
      ],
      "metadata": {
        "id": "YtyzpxySZgXD"
      },
      "execution_count": null,
      "outputs": []
    },
    {
      "cell_type": "code",
      "source": [
        "# save it into pickle\n",
        "final_df.to_pickle('/content/drive/My Drive/Pubmed_project/Dataframes/final_embeddings.pkl')"
      ],
      "metadata": {
        "id": "x_OUs2LcaJ8i"
      },
      "execution_count": null,
      "outputs": []
    }
  ]
}